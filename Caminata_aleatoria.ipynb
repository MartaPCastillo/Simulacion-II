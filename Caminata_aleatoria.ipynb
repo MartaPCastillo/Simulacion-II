{
  "nbformat": 4,
  "nbformat_minor": 0,
  "metadata": {
    "colab": {
      "provenance": [],
      "authorship_tag": "ABX9TyNTSf+Ik5+scW9kDcDABBEp",
      "include_colab_link": true
    },
    "kernelspec": {
      "name": "python3",
      "display_name": "Python 3"
    },
    "language_info": {
      "name": "python"
    }
  },
  "cells": [
    {
      "cell_type": "markdown",
      "metadata": {
        "id": "view-in-github",
        "colab_type": "text"
      },
      "source": [
        "<a href=\"https://colab.research.google.com/github/MartaPCastillo/Simulacion-II/blob/main/Caminata_aleatoria.ipynb\" target=\"_parent\"><img src=\"https://colab.research.google.com/assets/colab-badge.svg\" alt=\"Open In Colab\"/></a>"
      ]
    },
    {
      "cell_type": "code",
      "execution_count": 1,
      "metadata": {
        "colab": {
          "base_uri": "https://localhost:8080/"
        },
        "id": "UUgBSUrrH9Hy",
        "outputId": "2d6a4fd8-40da-49d8-eff4-58481567704f"
      },
      "outputs": [
        {
          "output_type": "stream",
          "name": "stdout",
          "text": [
            "Número de pasos necesarios para obtener una probabilidad del 50%: 25\n"
          ]
        }
      ],
      "source": [
        "import numpy as np\n",
        "\n",
        "def random_walk(steps):\n",
        "    # Inicializar posiciones\n",
        "    x = [0]\n",
        "    y = [0]\n",
        "\n",
        "    # Definir posibles direcciones\n",
        "    directions = [(0, 1), (0, -1), (1, 0), (-1, 0)]\n",
        "\n",
        "    for _ in range(steps):\n",
        "        # Escoger un índice de dirección aleatorio\n",
        "        idx = np.random.choice(len(directions))\n",
        "        dx, dy = directions[idx]\n",
        "\n",
        "        # Moverse en la dirección escogida\n",
        "        x.append(x[-1] + dx)\n",
        "        y.append(y[-1] + dy)\n",
        "\n",
        "    # Calcular la distancia desde el punto final al origen\n",
        "    distance = abs(x[-1]) + abs(y[-1])\n",
        "    return distance\n",
        "\n",
        "def probability_within_threshold(num_walks, steps, threshold):\n",
        "    count_within_threshold = 0\n",
        "\n",
        "    for _ in range(num_walks):\n",
        "        distance = random_walk(steps)\n",
        "        if distance <= threshold:\n",
        "            count_within_threshold += 1\n",
        "\n",
        "    probability = count_within_threshold / num_walks\n",
        "    return probability\n",
        "\n",
        "num_walks = 100\n",
        "threshold = 4\n",
        "target_probability = 0.5\n",
        "\n",
        "# Búsqueda iterativa para encontrar el número de pasos\n",
        "min_steps = 1\n",
        "max_steps = 30\n",
        "tolerance = 0.01\n",
        "\n",
        "while True:\n",
        "    steps = (min_steps + max_steps) // 2\n",
        "    probability = probability_within_threshold(num_walks, steps, threshold)\n",
        "\n",
        "    if abs(probability - target_probability) < tolerance:\n",
        "        break\n",
        "    elif probability < target_probability:\n",
        "        min_steps = steps\n",
        "    else:\n",
        "        max_steps = steps\n",
        "\n",
        "print(\"Número de pasos necesarios para obtener una probabilidad del 50%:\", steps)"
      ]
    }
  ]
}