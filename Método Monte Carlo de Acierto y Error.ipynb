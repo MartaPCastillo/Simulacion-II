{
  "nbformat": 4,
  "nbformat_minor": 0,
  "metadata": {
    "colab": {
      "provenance": [],
      "authorship_tag": "ABX9TyONF8ahumL63lrihQQ8Q3Qa",
      "include_colab_link": true
    },
    "kernelspec": {
      "name": "python3",
      "display_name": "Python 3"
    },
    "language_info": {
      "name": "python"
    }
  },
  "cells": [
    {
      "cell_type": "markdown",
      "metadata": {
        "id": "view-in-github",
        "colab_type": "text"
      },
      "source": [
        "<a href=\"https://colab.research.google.com/github/MartaPCastillo/Simulacion-II/blob/main/M%C3%A9todo%20Monte%20Carlo%20de%20Acierto%20y%20Error.ipynb\" target=\"_parent\"><img src=\"https://colab.research.google.com/assets/colab-badge.svg\" alt=\"Open In Colab\"/></a>"
      ]
    },
    {
      "cell_type": "markdown",
      "source": [
        "Método Monte Carlo de Acierto y Error"
      ],
      "metadata": {
        "id": "8H1UdEHSL049"
      }
    },
    {
      "cell_type": "code",
      "source": [
        "def funcion(x):\n",
        "  f=2*x**3+5\n",
        "  return f\n",
        "\n",
        "print (\"El resultado es: \", funcion(2))\n"
      ],
      "metadata": {
        "colab": {
          "base_uri": "https://localhost:8080/"
        },
        "id": "j4FaFHajL3Xl",
        "outputId": "977d6a29-1378-4c27-fcbd-5391ba09a41c"
      },
      "execution_count": 2,
      "outputs": [
        {
          "output_type": "stream",
          "name": "stdout",
          "text": [
            "El resultado es:  21\n"
          ]
        }
      ]
    }
  ]
}