{
  "nbformat": 4,
  "nbformat_minor": 0,
  "metadata": {
    "colab": {
      "provenance": [],
      "authorship_tag": "ABX9TyNWHvDrGuC8LTIleiMptPWN",
      "include_colab_link": true
    },
    "kernelspec": {
      "name": "python3",
      "display_name": "Python 3"
    },
    "language_info": {
      "name": "python"
    }
  },
  "cells": [
    {
      "cell_type": "markdown",
      "metadata": {
        "id": "view-in-github",
        "colab_type": "text"
      },
      "source": [
        "<a href=\"https://colab.research.google.com/github/MartaPCastillo/Simulacion-II/blob/main/M%C3%A9todo%20Monte%20Carlo%20de%20Acierto%20y%20Error.ipynb\" target=\"_parent\"><img src=\"https://colab.research.google.com/assets/colab-badge.svg\" alt=\"Open In Colab\"/></a>"
      ]
    },
    {
      "cell_type": "markdown",
      "source": [
        "Método Monte Carlo de Acierto y Error"
      ],
      "metadata": {
        "id": "8H1UdEHSL049"
      }
    },
    {
      "cell_type": "code",
      "source": [
        "import random\n",
        "\n",
        "a = input(\"Ingrese el valor de a (límite inferior): \")\n",
        "a = float(a)\n",
        "b = input(\"Ingrese el valor de b (límite superior): \")\n",
        "b = float(b)\n",
        "N = 5\n",
        "c = 1\n",
        "c = int(c)\n",
        "\n",
        "\n",
        "numeros = [random.random() for x in range(2*N)]\n",
        "print(numeros)\n",
        "\n",
        "for i in numeros:\n",
        "  X = a + i*(b-a)\n",
        "  print(\"X_\", c, \": \", X)\n",
        "  def funcion(X_i):\n",
        "     g=(1-(X_i)**2)**(3/2)\n",
        "\n",
        "     lista = ['Éxito' if X <= g else 'Fracaso']\n",
        "     return g\n",
        "  print(lista.count('Éxito1'))\n",
        "  print(\"g(X_\", c, \"): \", funcion(X))\n",
        "  c +=1\n",
        "\n",
        "\n",
        "\n",
        ""
      ],
      "metadata": {
        "colab": {
          "base_uri": "https://localhost:8080/"
        },
        "id": "5d3vxZiJN1Pg",
        "outputId": "83f4f3f2-0bab-4542-bfa7-6e66ca006d01"
      },
      "execution_count": 99,
      "outputs": [
        {
          "output_type": "stream",
          "name": "stdout",
          "text": [
            "Ingrese el valor de a (límite inferior): 0\n",
            "Ingrese el valor de b (límite superior): 1\n",
            "[0.1713163396267553, 0.6074760021246094, 0.36800416705392924, 0.712103488501685, 0.4871266347222344, 0.5904848148501703, 0.07958264208066401, 0.7208858491651456, 0.7948396268150146, 0.07286767916636105]\n",
            "X_ 1 :  0.1713163396267553\n",
            "0\n",
            "g(X_ 1 ):  0.9563006831417001\n",
            "X_ 2 :  0.6074760021246094\n",
            "0\n",
            "g(X_ 2 ):  0.5012057761775167\n",
            "X_ 3 :  0.36800416705392924\n",
            "0\n",
            "g(X_ 3 ):  0.80390078471508\n",
            "X_ 4 :  0.712103488501685\n",
            "0\n",
            "g(X_ 4 ):  0.3460585804587593\n",
            "X_ 5 :  0.4871266347222344\n",
            "0\n",
            "g(X_ 5 ):  0.6660964921715398\n",
            "X_ 6 :  0.5904848148501703\n",
            "0\n",
            "g(X_ 6 ):  0.5256531921705004\n",
            "X_ 7 :  0.07958264208066401\n",
            "0\n",
            "g(X_ 7 ):  0.9905149625035219\n",
            "X_ 8 :  0.7208858491651456\n",
            "0\n",
            "g(X_ 8 ):  0.33289009888691273\n",
            "X_ 9 :  0.7948396268150146\n",
            "0\n",
            "g(X_ 9 ):  0.22344914368201477\n",
            "X_ 10 :  0.07286767916636105\n",
            "0\n",
            "g(X_ 10 ):  0.9920460337115045\n"
          ]
        }
      ]
    },
    {
      "cell_type": "code",
      "source": [
        "def funcion(x):\n",
        "  f=2*x**3+5\n",
        "  return f\n",
        "\n",
        "print (\"El resultado es: \", funcion(2))"
      ],
      "metadata": {
        "colab": {
          "base_uri": "https://localhost:8080/"
        },
        "id": "j4FaFHajL3Xl",
        "outputId": "3a7bbf92-1e97-40d6-d3dc-23bc3efa984c"
      },
      "execution_count": 53,
      "outputs": [
        {
          "output_type": "stream",
          "name": "stdout",
          "text": [
            "El resultado es:  21\n"
          ]
        }
      ]
    },
    {
      "cell_type": "code",
      "source": [
        "lista = ['Paris', 'Brasil', 'Perú', 'Paris']\n",
        "print(lista.count('Paris'))"
      ],
      "metadata": {
        "colab": {
          "base_uri": "https://localhost:8080/"
        },
        "id": "ZpMcLWZnOObH",
        "outputId": "29821176-0b3c-4d14-9ba4-fefadbded4c1"
      },
      "execution_count": 78,
      "outputs": [
        {
          "output_type": "stream",
          "name": "stdout",
          "text": [
            "2\n"
          ]
        }
      ]
    },
    {
      "cell_type": "code",
      "source": [
        "     if X <= g:\n",
        "        print(\"Éxito\")\n",
        "     else:\n",
        "        print(\"Fracaso\")"
      ],
      "metadata": {
        "id": "_Emb_OqgcF3m"
      },
      "execution_count": null,
      "outputs": []
    }
  ]
}