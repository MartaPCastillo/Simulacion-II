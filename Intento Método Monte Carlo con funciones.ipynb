{
  "cells": [
    {
      "cell_type": "markdown",
      "metadata": {
        "id": "view-in-github",
        "colab_type": "text"
      },
      "source": [
        "<a href=\"https://colab.research.google.com/github/MartaPCastillo/Simulacion-II/blob/main/Intento%20M%C3%A9todo%20Monte%20Carlo%20con%20funciones.ipynb\" target=\"_parent\"><img src=\"https://colab.research.google.com/assets/colab-badge.svg\" alt=\"Open In Colab\"/></a>"
      ]
    },
    {
      "cell_type": "markdown",
      "id": "a5cc0a87",
      "metadata": {
        "id": "a5cc0a87"
      },
      "source": [
        "# Metodología de la Simulación"
      ]
    },
    {
      "cell_type": "markdown",
      "id": "0e218d98",
      "metadata": {
        "id": "0e218d98"
      },
      "source": [
        "### 1. Identifique las variables\n",
        "\n",
        "Aquellas cuyo comportamiento define el comportamiento o la evoución global del sistema real."
      ]
    },
    {
      "cell_type": "markdown",
      "id": "3ebcd0f2",
      "metadata": {
        "id": "3ebcd0f2"
      },
      "source": [
        "### 2. Determine la distribución de probabilidad\n",
        "\n",
        "Elija el tipo de distribución de probabilidad que mejor defina el comportamiento aleatorio de cada una de las variables del sistema identificadas en el paso anterior."
      ]
    },
    {
      "cell_type": "markdown",
      "id": "803801d5",
      "metadata": {
        "id": "803801d5"
      },
      "source": [
        "### 3. Modele las variables aleatorias\n",
        "\n",
        "Cosntruya un modelo fiel de la aleatoriedad de las variables del sistema. Simular el comportamiento del sistema implica generar muestras aleatorias de cada variable que sigan fielmente la distribución de probabilidad correspondiente."
      ]
    },
    {
      "cell_type": "markdown",
      "id": "33709223",
      "metadata": {
        "id": "33709223"
      },
      "source": [
        "### 4. Defina el modelo del sistema y los objetivos de la simulación\n",
        "\n",
        "Fije los objetivos y diseñe un modelo del sistema real que abstraiga sus propiedades más relevantes. Todo error en el modelo (o su implementación computacional) puede dar lugar a conclusiones equivocadas.\n",
        "\n",
        "Antes de experimentar con el modelo, asegurarse de que refleja fielmente el sistema real **validando** el mismo a partir de datos reales, para ello compare los resultados obtenidos de la simulación con los producidos por el sistema."
      ]
    },
    {
      "cell_type": "markdown",
      "id": "7f853065",
      "metadata": {
        "id": "7f853065"
      },
      "source": [
        "### 5. Diseñe el experimento\n",
        "\n",
        "Diseñe un experimento así como las ejecuciones concretas del mismo, los escenarios que desea estudiar para alcanzar los objetivos fijados. El experimento consiste en generar valores de las variables cuyo comportamiento define el comportamiento del sistema y analizar este ante dichos valores."
      ]
    },
    {
      "cell_type": "markdown",
      "id": "15ae61c8",
      "metadata": {
        "id": "15ae61c8"
      },
      "source": [
        "### 6. Repita el experimento $n$ veces\n",
        "\n",
        "Así dispondrá de $n$ observaciones sobre el comportamiento del sistema, lo que permitirá entender su funcionamiento así como evaluar el desempeño del mismo frente a los diversos escenarios establecidos.\n",
        "\n",
        "El **método Monte Carlo** se basa en la **Ley Fuerte de los Grandes Números** y el **Teorema del Límite Central**."
      ]
    },
    {
      "cell_type": "markdown",
      "id": "51ce3fa1",
      "metadata": {
        "id": "51ce3fa1"
      },
      "source": [
        "## Ejemplo\n",
        "\n",
        "Calcule la probabilidad de que aparezcan dos caras lanzando tres veces una moneda al aire.\n",
        "\n",
        "1. Analíticamente.\n",
        "2. Mediante simulación."
      ]
    },
    {
      "cell_type": "markdown",
      "id": "6f1b4105",
      "metadata": {
        "id": "6f1b4105"
      },
      "source": [
        "Analiticamente:"
      ]
    },
    {
      "cell_type": "code",
      "execution_count": null,
      "id": "bb5e678d",
      "metadata": {
        "id": "bb5e678d"
      },
      "outputs": [],
      "source": []
    },
    {
      "cell_type": "markdown",
      "id": "564ca694",
      "metadata": {
        "id": "564ca694"
      },
      "source": [
        "Por simulación: Construimos el modelo en varios pasos."
      ]
    },
    {
      "cell_type": "markdown",
      "id": "fbbc8571",
      "metadata": {
        "id": "fbbc8571"
      },
      "source": [
        "**PASO 1**. Defina las variables que intervienen en el modelo."
      ]
    },
    {
      "cell_type": "code",
      "execution_count": null,
      "id": "37c5f31c",
      "metadata": {
        "id": "37c5f31c"
      },
      "outputs": [],
      "source": []
    },
    {
      "cell_type": "markdown",
      "id": "4d3899f3",
      "metadata": {
        "id": "4d3899f3"
      },
      "source": [
        "**PASO 2**. Formule la distribución de probabilidad de cada variable."
      ]
    },
    {
      "cell_type": "markdown",
      "id": "fefa1334",
      "metadata": {
        "id": "fefa1334"
      },
      "source": [
        "\n",
        "|      |**Sol**|**Aguila**|\n",
        "|------|-------|----------|\n",
        "|f(x)|         |          |"
      ]
    },
    {
      "cell_type": "markdown",
      "id": "fd02116a",
      "metadata": {
        "id": "fd02116a"
      },
      "source": [
        "**PASO 3**. Enumere la distribución acumulada de probabilidad de cada variable."
      ]
    },
    {
      "cell_type": "markdown",
      "id": "59e252c6",
      "metadata": {
        "id": "59e252c6"
      },
      "source": [
        "|      |**Sol**|**Aguila**|\n",
        "|------|-------|----------|\n",
        "|f(x)  |       |          |\n",
        "|F(x)  |       |          |"
      ]
    },
    {
      "cell_type": "markdown",
      "id": "4852dcac",
      "metadata": {
        "id": "4852dcac"
      },
      "source": [
        "**PASO 4**. Establezca el intervalo de números aleatorios correspondiente a cada valor de cada una de las variables."
      ]
    },
    {
      "cell_type": "markdown",
      "id": "905db069",
      "metadata": {
        "id": "905db069"
      },
      "source": [
        "|           |**Sol**|**Aguila**|\n",
        "|-----------|-------|----------|\n",
        "|f(x)       |       |          |\n",
        "|F(x)       |       |          |\n",
        "|Intervalos |       |          |"
      ]
    },
    {
      "cell_type": "markdown",
      "id": "edb6b074",
      "metadata": {
        "id": "edb6b074"
      },
      "source": [
        "**PASO 5**. Genere números aleatorios."
      ]
    },
    {
      "cell_type": "code",
      "execution_count": null,
      "id": "7d56c432",
      "metadata": {
        "id": "7d56c432"
      },
      "outputs": [],
      "source": []
    },
    {
      "cell_type": "markdown",
      "id": "f38f3396",
      "metadata": {
        "id": "f38f3396"
      },
      "source": [
        "**PASO 6**. Simule un lanzamiento."
      ]
    },
    {
      "cell_type": "markdown",
      "id": "a68ba17e",
      "metadata": {
        "id": "a68ba17e"
      },
      "source": [
        "Si Número de caras = 2       \n",
        "\n",
        "¿Aparecen dos caras? = **1**\n",
        "\n",
        "Si Número de caras ≠ 2       \n",
        "\n",
        "¿Aparecen dos caras? = **0**"
      ]
    },
    {
      "cell_type": "markdown",
      "id": "d270399e",
      "metadata": {
        "id": "d270399e"
      },
      "source": [
        "**PASO 7**. Obtenga la gráfica de estabilización que indica que el tamaño de muestra utilizado es suficiente para\n",
        "garantizar la convergencia del resultado."
      ]
    },
    {
      "cell_type": "code",
      "execution_count": 293,
      "id": "2fd22e33",
      "metadata": {
        "id": "2fd22e33"
      },
      "outputs": [],
      "source": [
        "import numpy as np\n",
        "import random\n",
        "import matplotlib.pyplot as plt\n",
        "from prettytable import PrettyTable"
      ]
    },
    {
      "cell_type": "code",
      "source": [
        "a = input(\"Ingrese el valor de a (límite inferior): \")\n",
        "a = float(a)\n",
        "b = input(\"Ingrese el valor de b (límite superior): \")\n",
        "b = float(b)\n",
        "c = input(\"Ingrese el valor de c: \")\n",
        "c = float(c)\n",
        "N = 5\n",
        "contador = 0\n",
        "contador2 = 0\n",
        "contador = int(contador)\n",
        "contador2 = int(contador2)\n",
        "X = np.array([])\n",
        "mytable0 = PrettyTable([])"
      ],
      "metadata": {
        "id": "WWIxiNIZuAQg",
        "outputId": "e67cbb0d-dde0-4b43-97e9-93eba883667b",
        "colab": {
          "base_uri": "https://localhost:8080/"
        }
      },
      "id": "WWIxiNIZuAQg",
      "execution_count": 294,
      "outputs": [
        {
          "name": "stdout",
          "output_type": "stream",
          "text": [
            "Ingrese el valor de a (límite inferior): 0\n",
            "Ingrese el valor de b (límite superior): 1\n",
            "Ingrese el valor de c: 2\n"
          ]
        }
      ]
    },
    {
      "cell_type": "code",
      "execution_count": 295,
      "id": "32719c0f",
      "metadata": {
        "id": "32719c0f"
      },
      "outputs": [],
      "source": [
        "def funcionX(N):\n",
        "    numeros = [random.random() for x in range(2*N)]\n",
        "    mytable0.add_column(\"Aleatorios\", numeros)\n",
        "    print(mytable0)\n",
        "    contador = 0\n",
        "    contador1 = 0\n",
        "    lista=[]\n",
        "    for i in range(N):\n",
        "       X = a + numeros[i]*(b-a)\n",
        "       print(\"X_\" +str(contador + 1) + \": \", X)\n",
        "       g = (1-(X)**2)**(3/2)\n",
        "       print(\"g(X_\"+str(contador + 1) + \"): \", g)\n",
        "       contador +=1\n",
        "    for i in range (N, 2*N):\n",
        "      print(\"Número aleatorio tomado: \", numeros[i])\n",
        "      Y = numeros[i]*c\n",
        "      print(\"Y_\" +str(contador1 + 1) + \": \", Y)\n",
        "      contador1 +=1\n",
        "    for i in range(N, 2*N):\n",
        "      Y = numeros[i]*c\n",
        "      lista.append ('Éxito' if Y <= g else 'Fracaso')\n",
        "    Nh = lista.count('Éxito')\n",
        "    return Nh"
      ]
    },
    {
      "cell_type": "code",
      "source": [
        "print(\"El número de éxitos es:\", funcionX(5))"
      ],
      "metadata": {
        "id": "Donnzdey1wUx",
        "outputId": "ac9137c7-d6b4-47d6-ac1d-7d5b98a0af8d",
        "colab": {
          "base_uri": "https://localhost:8080/"
        }
      },
      "id": "Donnzdey1wUx",
      "execution_count": 296,
      "outputs": [
        {
          "output_type": "stream",
          "name": "stdout",
          "text": [
            "+----------------------+\n",
            "|      Aleatorios      |\n",
            "+----------------------+\n",
            "| 0.021037173568363876 |\n",
            "| 0.13815226656909818  |\n",
            "| 0.08027869022120238  |\n",
            "|  0.9247207987911313  |\n",
            "| 0.10063552606824333  |\n",
            "|  0.9791962428820802  |\n",
            "| 0.08905274402850705  |\n",
            "|  0.6741898898153591  |\n",
            "| 0.24046710858421572  |\n",
            "|  0.6979388982859059  |\n",
            "+----------------------+\n",
            "X_1:  0.021037173568363876\n",
            "g(X_1):  0.9993362294459447\n",
            "X_2:  0.13815226656909818\n",
            "g(X_2):  0.9715079685126462\n",
            "X_3:  0.08027869022120238\n",
            "g(X_3):  0.9903485897696772\n",
            "X_4:  0.9247207987911313\n",
            "g(X_4):  0.05515236144596409\n",
            "X_5:  0.10063552606824333\n",
            "g(X_5):  0.984847263923945\n",
            "Número aleatorio tomado:  0.9791962428820802\n",
            "Y_1:  1.9583924857641604\n",
            "Número aleatorio tomado:  0.08905274402850705\n",
            "Y_2:  0.1781054880570141\n",
            "Número aleatorio tomado:  0.6741898898153591\n",
            "Y_3:  1.3483797796307182\n",
            "Número aleatorio tomado:  0.24046710858421572\n",
            "Y_4:  0.48093421716843143\n",
            "Número aleatorio tomado:  0.6979388982859059\n",
            "Y_5:  1.3958777965718119\n",
            "El número de éxitos es: 2\n"
          ]
        }
      ]
    }
  ],
  "metadata": {
    "kernelspec": {
      "display_name": "Python 3 (ipykernel)",
      "language": "python",
      "name": "python3"
    },
    "language_info": {
      "codemirror_mode": {
        "name": "ipython",
        "version": 3
      },
      "file_extension": ".py",
      "mimetype": "text/x-python",
      "name": "python",
      "nbconvert_exporter": "python",
      "pygments_lexer": "ipython3",
      "version": "3.7.3"
    },
    "colab": {
      "provenance": [],
      "include_colab_link": true
    }
  },
  "nbformat": 4,
  "nbformat_minor": 5
}