{
  "nbformat": 4,
  "nbformat_minor": 0,
  "metadata": {
    "colab": {
      "provenance": [],
      "authorship_tag": "ABX9TyN+J8+lZdqzyaDizbsK9g+z",
      "include_colab_link": true
    },
    "kernelspec": {
      "name": "python3",
      "display_name": "Python 3"
    },
    "language_info": {
      "name": "python"
    }
  },
  "cells": [
    {
      "cell_type": "markdown",
      "metadata": {
        "id": "view-in-github",
        "colab_type": "text"
      },
      "source": [
        "<a href=\"https://colab.research.google.com/github/MartaPCastillo/Simulacion-II/blob/main/M%C3%A9todo%20de%20Monte%20Carlo%20de%20Acierto%20y%20Error.ipynb\" target=\"_parent\"><img src=\"https://colab.research.google.com/assets/colab-badge.svg\" alt=\"Open In Colab\"/></a>"
      ]
    },
    {
      "cell_type": "markdown",
      "source": [
        "Método Monte Carlo de Acierto y Error"
      ],
      "metadata": {
        "id": "8H1UdEHSL049"
      }
    },
    {
      "cell_type": "code",
      "source": [
        "import math\n",
        "import random\n",
        "import numpy as np\n",
        "from prettytable import PrettyTable\n",
        "\n",
        "a = input(\"Ingrese el valor de a (límite inferior): \")\n",
        "a = float(a)\n",
        "b = input(\"Ingrese el valor de b (límite superior): \")\n",
        "b = float(b)\n",
        "c = input(\"Ingrese el valor de c: \")\n",
        "c = float(c)\n",
        "N = 5\n",
        "contador = 0\n",
        "contador2 = 0\n",
        "contador = int(contador)\n",
        "contador2 = int(contador2)\n",
        "lista=[]\n",
        "X = np.array([])\n",
        "\n",
        "mytable0 = PrettyTable([])\n",
        "\n",
        "numeros = [random.random() for x in range(2*N)]\n",
        "mytable0.add_column(\"Aleatorios\", numeros)\n",
        "\n",
        "print(mytable0)\n",
        "\n",
        "def funcion(X_i):\n",
        "  g=(1-(X_i)**2)**(3/2)\n",
        "  return g\n",
        "\n",
        "mytable1 = PrettyTable(['X_i', 'g(X_i)'])\n",
        "mytable2 = PrettyTable(['Y_i'])\n",
        "for i in range(N):\n",
        "       X = a + numeros[i]*(b-a)\n",
        "       print(\"X_\" +str(contador + 1) + \": \", X)\n",
        "       g = funcion(X)\n",
        "       print(\"g(X_\"+str(contador + 1) + \"): \", g)\n",
        "       contador +=1\n",
        "       mytable1.add_row([X,g])\n",
        "for i in range (N, 2*N):\n",
        "  print(\"Número aleatorio tomado: \", numeros[i])\n",
        "  Y = numeros[i]*c\n",
        "  print(\"Y_\" +str(contador2 + 1) + \": \", Y)\n",
        "  contador2 +=1\n",
        "  mytable2.add_row([Y])\n",
        "\n",
        "for i in range(N, 2*N):\n",
        "    Y = numeros[i]*c\n",
        "    lista.append ('Éxito' if Y <= g else 'Fracaso')\n",
        "\n",
        "Nh = lista.count('Éxito')\n",
        "print(\"El número de éxitos es: \", Nh)\n",
        "\n",
        "mytable1.add_autoindex('No.')\n",
        "mytable2.add_autoindex('No.')\n",
        "\n",
        "print(mytable1)\n",
        "print(mytable2)\n",
        "\n",
        "theta_1 = c*(b-a)*(Nh/N)\n",
        "print(\"El valor estimado para la integral es: \", theta_1)"
      ],
      "metadata": {
        "colab": {
          "base_uri": "https://localhost:8080/"
        },
        "id": "5d3vxZiJN1Pg",
        "outputId": "d9b4cfff-0e36-4a6a-a6f4-93217a395954"
      },
      "execution_count": 84,
      "outputs": [
        {
          "output_type": "stream",
          "name": "stdout",
          "text": [
            "Ingrese el valor de a (límite inferior): 0\n",
            "Ingrese el valor de b (límite superior): 1\n",
            "Ingrese el valor de c: 1\n",
            "+---------------------+\n",
            "|      Aleatorios     |\n",
            "+---------------------+\n",
            "| 0.36207122899541666 |\n",
            "|  0.7677642856869078 |\n",
            "|  0.4524132434767253 |\n",
            "| 0.41187915583902934 |\n",
            "|  0.5578579081423352 |\n",
            "|  0.1216256796222166 |\n",
            "|  0.9345831860806624 |\n",
            "|  0.8461115468967165 |\n",
            "| 0.26977481314860075 |\n",
            "|  0.6667724121090789 |\n",
            "+---------------------+\n",
            "X_1:  0.36207122899541666\n",
            "g(X_1):  0.8099496339762072\n",
            "X_2:  0.7677642856869078\n",
            "g(X_2):  0.2630449968975063\n",
            "X_3:  0.4524132434767253\n",
            "g(X_3):  0.7092750851374409\n",
            "X_4:  0.41187915583902934\n",
            "g(X_4):  0.756651936314267\n",
            "X_5:  0.5578579081423352\n",
            "g(X_5):  0.5716557251558855\n",
            "Número aleatorio tomado:  0.1216256796222166\n",
            "Y_1:  0.1216256796222166\n",
            "Número aleatorio tomado:  0.9345831860806624\n",
            "Y_2:  0.9345831860806624\n",
            "Número aleatorio tomado:  0.8461115468967165\n",
            "Y_3:  0.8461115468967165\n",
            "Número aleatorio tomado:  0.26977481314860075\n",
            "Y_4:  0.26977481314860075\n",
            "Número aleatorio tomado:  0.6667724121090789\n",
            "Y_5:  0.6667724121090789\n",
            "El número de éxitos es:  2\n",
            "+-----+---------------------+--------------------+\n",
            "| No. |         X_i         |       g(X_i)       |\n",
            "+-----+---------------------+--------------------+\n",
            "|  1  | 0.36207122899541666 | 0.8099496339762072 |\n",
            "|  2  |  0.7677642856869078 | 0.2630449968975063 |\n",
            "|  3  |  0.4524132434767253 | 0.7092750851374409 |\n",
            "|  4  | 0.41187915583902934 | 0.756651936314267  |\n",
            "|  5  |  0.5578579081423352 | 0.5716557251558855 |\n",
            "+-----+---------------------+--------------------+\n",
            "+-----+---------------------+\n",
            "| No. |         Y_i         |\n",
            "+-----+---------------------+\n",
            "|  1  |  0.1216256796222166 |\n",
            "|  2  |  0.9345831860806624 |\n",
            "|  3  |  0.8461115468967165 |\n",
            "|  4  | 0.26977481314860075 |\n",
            "|  5  |  0.6667724121090789 |\n",
            "+-----+---------------------+\n",
            "El valor estimado para la integral es:  0.4\n"
          ]
        }
      ]
    }
  ]
}