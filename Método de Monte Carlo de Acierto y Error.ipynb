{
  "nbformat": 4,
  "nbformat_minor": 0,
  "metadata": {
    "colab": {
      "provenance": [],
      "authorship_tag": "ABX9TyPONT2GA+RJMNCLHUzih1/R",
      "include_colab_link": true
    },
    "kernelspec": {
      "name": "python3",
      "display_name": "Python 3"
    },
    "language_info": {
      "name": "python"
    }
  },
  "cells": [
    {
      "cell_type": "markdown",
      "metadata": {
        "id": "view-in-github",
        "colab_type": "text"
      },
      "source": [
        "<a href=\"https://colab.research.google.com/github/MartaPCastillo/Simulacion-II/blob/main/M%C3%A9todo%20de%20Monte%20Carlo%20de%20Acierto%20y%20Error.ipynb\" target=\"_parent\"><img src=\"https://colab.research.google.com/assets/colab-badge.svg\" alt=\"Open In Colab\"/></a>"
      ]
    },
    {
      "cell_type": "markdown",
      "source": [
        "Método Monte Carlo de Acierto y Error"
      ],
      "metadata": {
        "id": "8H1UdEHSL049"
      }
    },
    {
      "cell_type": "code",
      "source": [
        "import random\n",
        "import numpy as np\n",
        "from prettytable import PrettyTable\n",
        "\n",
        "a = input(\"Ingrese el valor de a (límite inferior): \")\n",
        "a = float(a)\n",
        "b = input(\"Ingrese el valor de b (límite superior): \")\n",
        "b = float(b)\n",
        "c = input(\"Ingrese el valor de c: \")\n",
        "c = float(c)\n",
        "N = 5\n",
        "contador = 0\n",
        "contador = int(contador)\n",
        "lista=[]\n",
        "X = np.array([])\n",
        "\n",
        "mytable0 = PrettyTable([])\n",
        "\n",
        "numeros = [random.random() for x in range(2*N)]\n",
        "mytable0.add_column(\"Aleatorios\", numeros)\n",
        "\n",
        "print(mytable0)\n",
        "\n",
        "def funcion(X_i):\n",
        "  g=(1-(X_i)**2)**(3/2)\n",
        "  return g\n",
        "\n",
        "\n",
        "mytable = PrettyTable(['X_i', 'f(X_i)'])\n",
        "\n",
        "for i in numeros:\n",
        "       X = a + i*(b-a)\n",
        "       print(\"X_\" +str(contador + 1) + \": \", X)\n",
        "       g = funcion(X)\n",
        "       print(\"g(X_\"+str(contador + 1) + \"): \", g)\n",
        "       mytable.add_row([X, g])\n",
        "       contador +=1\n",
        "\n",
        "for i in numeros:\n",
        "    X = a + i*(b-a)\n",
        "    g = funcion(X)\n",
        "    lista.append ('Éxito' if X <= g else 'Fracaso')\n",
        "\n",
        "\n",
        "Nh = lista.count('Éxito')\n",
        "print(\"El número de éxitos es: \", Nh)\n",
        "\n",
        "print(mytable)\n",
        "\n",
        "theta_1 = c*(b-a)*(Nh/N)\n",
        "print(\"El valor estimado para la integral es: \", theta_1)"
      ],
      "metadata": {
        "colab": {
          "base_uri": "https://localhost:8080/"
        },
        "id": "5d3vxZiJN1Pg",
        "outputId": "6f41d4e7-84bb-4c06-dcc0-1b22e55bf44a"
      },
      "execution_count": 43,
      "outputs": [
        {
          "output_type": "stream",
          "name": "stdout",
          "text": [
            "Ingrese el valor de a (límite inferior): 0\n",
            "Ingrese el valor de b (límite superior): 1\n",
            "Ingrese el valor de c: 30\n",
            "+---------------------+\n",
            "|      Aleatorios     |\n",
            "+---------------------+\n",
            "|  0.718281768700135  |\n",
            "|  0.775491318748158  |\n",
            "|  0.9187726108330877 |\n",
            "| 0.30033503853228305 |\n",
            "|  0.7864147529409967 |\n",
            "|  0.639518107908387  |\n",
            "|  0.6076989156119382 |\n",
            "| 0.43847112439697555 |\n",
            "| 0.21227290339349258 |\n",
            "| 0.14526806609424692 |\n",
            "+---------------------+\n",
            "X_1:  0.718281768700135\n",
            "g(X_1):  0.33679373401181995\n",
            "X_2:  0.775491318748158\n",
            "g(X_2):  0.25166773357711286\n",
            "X_3:  0.9187726108330877\n",
            "g(X_3):  0.06153029641288878\n",
            "X_4:  0.30033503853228305\n",
            "g(X_4):  0.8677968828216938\n",
            "X_5:  0.7864147529409967\n",
            "g(X_5):  0.2356841203611305\n",
            "X_6:  0.639518107908387\n",
            "g(X_6):  0.4543593895191488\n",
            "X_7:  0.6076989156119382\n",
            "g(X_7):  0.5008830567273952\n",
            "X_8:  0.43847112439697555\n",
            "g(X_8):  0.7259552720141975\n",
            "X_9:  0.21227290339349258\n",
            "g(X_9):  0.9331775327272633\n",
            "X_10:  0.14526806609424692\n",
            "g(X_10):  0.9685133737504167\n",
            "El número de éxitos es:  4\n",
            "+---------------------+---------------------+\n",
            "|         X_i         |        f(X_i)       |\n",
            "+---------------------+---------------------+\n",
            "|  0.718281768700135  | 0.33679373401181995 |\n",
            "|  0.775491318748158  | 0.25166773357711286 |\n",
            "|  0.9187726108330877 | 0.06153029641288878 |\n",
            "| 0.30033503853228305 |  0.8677968828216938 |\n",
            "|  0.7864147529409967 |  0.2356841203611305 |\n",
            "|  0.639518107908387  |  0.4543593895191488 |\n",
            "|  0.6076989156119382 |  0.5008830567273952 |\n",
            "| 0.43847112439697555 |  0.7259552720141975 |\n",
            "| 0.21227290339349258 |  0.9331775327272633 |\n",
            "| 0.14526806609424692 |  0.9685133737504167 |\n",
            "+---------------------+---------------------+\n",
            "El valor estimado para la integral es:  24.0\n"
          ]
        }
      ]
    },
    {
      "cell_type": "code",
      "source": [
        "def funcion(x):\n",
        "  f=2*x**3+5\n",
        "  return f\n",
        "\n",
        "print (\"El resultado es: \", funcion(2))"
      ],
      "metadata": {
        "colab": {
          "base_uri": "https://localhost:8080/"
        },
        "id": "j4FaFHajL3Xl",
        "outputId": "3a7bbf92-1e97-40d6-d3dc-23bc3efa984c"
      },
      "execution_count": null,
      "outputs": [
        {
          "output_type": "stream",
          "name": "stdout",
          "text": [
            "El resultado es:  21\n"
          ]
        }
      ]
    },
    {
      "cell_type": "code",
      "source": [
        "lista = ['Paris', 'Brasil', 'Perú', 'Paris']\n",
        "print(lista.count('Paris'))"
      ],
      "metadata": {
        "colab": {
          "base_uri": "https://localhost:8080/"
        },
        "id": "ZpMcLWZnOObH",
        "outputId": "29821176-0b3c-4d14-9ba4-fefadbded4c1"
      },
      "execution_count": null,
      "outputs": [
        {
          "output_type": "stream",
          "name": "stdout",
          "text": [
            "2\n"
          ]
        }
      ]
    },
    {
      "cell_type": "code",
      "source": [
        "     if X <= g:\n",
        "        print(\"Éxito\")\n",
        "     else:\n",
        "        print(\"Fracaso\")"
      ],
      "metadata": {
        "id": "_Emb_OqgcF3m"
      },
      "execution_count": null,
      "outputs": []
    }
  ]
}