{
  "cells": [
    {
      "cell_type": "markdown",
      "metadata": {
        "id": "view-in-github",
        "colab_type": "text"
      },
      "source": [
        "<a href=\"https://colab.research.google.com/github/MartaPCastillo/Simulacion-II/blob/main/M%C3%A9todo_Monte_Carlo_de_Acierto_y_Error.ipynb\" target=\"_parent\"><img src=\"https://colab.research.google.com/assets/colab-badge.svg\" alt=\"Open In Colab\"/></a>"
      ]
    },
    {
      "cell_type": "markdown",
      "id": "a5cc0a87",
      "metadata": {
        "id": "a5cc0a87"
      },
      "source": [
        "# Método Monte Carlo de Acierto y Error"
      ]
    },
    {
      "cell_type": "markdown",
      "id": "0e218d98",
      "metadata": {
        "id": "0e218d98"
      },
      "source": [
        "### 1. Identifique las variables\n",
        "\n",
        "Aquellas cuyo comportamiento define el comportamiento o la evoución global del sistema real."
      ]
    },
    {
      "cell_type": "markdown",
      "id": "3ebcd0f2",
      "metadata": {
        "id": "3ebcd0f2"
      },
      "source": [
        "### 2. Determine la distribución de probabilidad\n",
        "\n",
        "Elija el tipo de distribución de probabilidad que mejor defina el comportamiento aleatorio de cada una de las variables del sistema identificadas en el paso anterior."
      ]
    },
    {
      "cell_type": "markdown",
      "id": "803801d5",
      "metadata": {
        "id": "803801d5"
      },
      "source": [
        "### 3. Modele las variables aleatorias\n",
        "\n",
        "Cosntruya un modelo fiel de la aleatoriedad de las variables del sistema. Simular el comportamiento del sistema implica generar muestras aleatorias de cada variable que sigan fielmente la distribución de probabilidad correspondiente."
      ]
    },
    {
      "cell_type": "markdown",
      "id": "33709223",
      "metadata": {
        "id": "33709223"
      },
      "source": [
        "### 4. Defina el modelo del sistema y los objetivos de la simulación\n",
        "\n",
        "Fije los objetivos y diseñe un modelo del sistema real que abstraiga sus propiedades más relevantes. Todo error en el modelo (o su implementación computacional) puede dar lugar a conclusiones equivocadas.\n",
        "\n",
        "Antes de experimentar con el modelo, asegurarse de que refleja fielmente el sistema real **validando** el mismo a partir de datos reales, para ello compare los resultados obtenidos de la simulación con los producidos por el sistema."
      ]
    },
    {
      "cell_type": "markdown",
      "id": "7f853065",
      "metadata": {
        "id": "7f853065"
      },
      "source": [
        "### 5. Diseñe el experimento\n",
        "\n",
        "Diseñe un experimento así como las ejecuciones concretas del mismo, los escenarios que desea estudiar para alcanzar los objetivos fijados. El experimento consiste en generar valores de las variables cuyo comportamiento define el comportamiento del sistema y analizar este ante dichos valores."
      ]
    },
    {
      "cell_type": "markdown",
      "id": "15ae61c8",
      "metadata": {
        "id": "15ae61c8"
      },
      "source": [
        "### 6. Repita el experimento $n$ veces\n",
        "\n",
        "Así dispondrá de $n$ observaciones sobre el comportamiento del sistema, lo que permitirá entender su funcionamiento así como evaluar el desempeño del mismo frente a los diversos escenarios establecidos.\n",
        "\n",
        "El **método Monte Carlo** se basa en la **Ley Fuerte de los Grandes Números** y el **Teorema del Límite Central**."
      ]
    },
    {
      "cell_type": "markdown",
      "id": "51ce3fa1",
      "metadata": {
        "id": "51ce3fa1"
      },
      "source": [
        "## Ejemplo\n",
        "\n",
        "Calcule la probabilidad de que aparezcan dos caras lanzando tres veces una moneda al aire.\n",
        "\n",
        "1. Analíticamente.\n",
        "2. Mediante simulación."
      ]
    },
    {
      "cell_type": "markdown",
      "id": "6f1b4105",
      "metadata": {
        "id": "6f1b4105"
      },
      "source": [
        "Analiticamente:"
      ]
    },
    {
      "cell_type": "code",
      "execution_count": null,
      "id": "bb5e678d",
      "metadata": {
        "id": "bb5e678d"
      },
      "outputs": [],
      "source": []
    },
    {
      "cell_type": "markdown",
      "id": "564ca694",
      "metadata": {
        "id": "564ca694"
      },
      "source": [
        "Por simulación: Construimos el modelo en varios pasos."
      ]
    },
    {
      "cell_type": "markdown",
      "id": "fbbc8571",
      "metadata": {
        "id": "fbbc8571"
      },
      "source": [
        "**PASO 1**. Defina las variables que intervienen en el modelo."
      ]
    },
    {
      "cell_type": "code",
      "execution_count": 310,
      "id": "37c5f31c",
      "metadata": {
        "colab": {
          "base_uri": "https://localhost:8080/"
        },
        "id": "37c5f31c",
        "outputId": "a5e56654-0a36-473c-926d-8c6ef1b5ca7e"
      },
      "outputs": [
        {
          "name": "stdout",
          "output_type": "stream",
          "text": [
            "Ingrese el valor de a (límite inferior): 0\n",
            "Ingrese el valor de b (límite superior): 1\n",
            "Ingrese el valor de c: 2\n"
          ]
        }
      ],
      "source": [
        "a = input(\"Ingrese el valor de a (límite inferior): \")\n",
        "a = float(a)\n",
        "b = input(\"Ingrese el valor de b (límite superior): \")\n",
        "b = float(b)\n",
        "c = input(\"Ingrese el valor de c: \")\n",
        "c = float(c)\n",
        "N = 5"
      ]
    },
    {
      "cell_type": "markdown",
      "id": "edb6b074",
      "metadata": {
        "id": "edb6b074"
      },
      "source": [
        "**PASO 5**. Genere números aleatorios."
      ]
    },
    {
      "cell_type": "code",
      "execution_count": null,
      "id": "7d56c432",
      "metadata": {
        "id": "7d56c432"
      },
      "outputs": [],
      "source": []
    },
    {
      "cell_type": "markdown",
      "id": "d270399e",
      "metadata": {
        "id": "d270399e"
      },
      "source": [
        "**PASO 7**. Realice el programa que implemente el método monte carlo."
      ]
    },
    {
      "cell_type": "code",
      "execution_count": 311,
      "id": "2fd22e33",
      "metadata": {
        "id": "2fd22e33"
      },
      "outputs": [],
      "source": [
        "import numpy as np\n",
        "import random\n",
        "import matplotlib.pyplot as plt\n",
        "from prettytable import PrettyTable"
      ]
    },
    {
      "cell_type": "code",
      "source": [
        "contador = 0\n",
        "contador2 = 0\n",
        "contador = int(contador)\n",
        "contador2 = int(contador2)\n",
        "lista=[]\n",
        "X = np.array([])"
      ],
      "metadata": {
        "id": "ZTVWpYA0_P5t"
      },
      "id": "ZTVWpYA0_P5t",
      "execution_count": 312,
      "outputs": []
    },
    {
      "cell_type": "code",
      "source": [
        "mytable0 = PrettyTable([])\n",
        "\n",
        "numeros = [random.random() for x in range(2*N)]\n",
        "mytable0.add_column(\"Aleatorios\", numeros)\n",
        "\n",
        "print(mytable0)"
      ],
      "metadata": {
        "colab": {
          "base_uri": "https://localhost:8080/"
        },
        "id": "Q-IPVZt6_Xot",
        "outputId": "610900b9-8174-4b5f-dc3f-c369a344ce69"
      },
      "id": "Q-IPVZt6_Xot",
      "execution_count": 313,
      "outputs": [
        {
          "output_type": "stream",
          "name": "stdout",
          "text": [
            "+---------------------+\n",
            "|      Aleatorios     |\n",
            "+---------------------+\n",
            "|  0.9694396215058028 |\n",
            "|  0.3603977790284516 |\n",
            "|  0.9561459132077851 |\n",
            "|  0.4369321001330636 |\n",
            "|  0.5928268003076673 |\n",
            "| 0.15522779283173882 |\n",
            "|  0.8713687644665621 |\n",
            "|  0.268018404958855  |\n",
            "|  0.5483295798697461 |\n",
            "| 0.10113297943687138 |\n",
            "+---------------------+\n"
          ]
        }
      ]
    },
    {
      "cell_type": "code",
      "source": [
        "def funcion(X_i):\n",
        "  g=(1-(X_i)**2)**(3/2)\n",
        "  return g"
      ],
      "metadata": {
        "id": "WWIxiNIZuAQg"
      },
      "id": "WWIxiNIZuAQg",
      "execution_count": 314,
      "outputs": []
    },
    {
      "cell_type": "code",
      "execution_count": 315,
      "id": "32719c0f",
      "metadata": {
        "colab": {
          "base_uri": "https://localhost:8080/"
        },
        "id": "32719c0f",
        "outputId": "d0faccf2-c02e-4d8c-8644-3efaa15914bb"
      },
      "outputs": [
        {
          "output_type": "stream",
          "name": "stdout",
          "text": [
            "X_1:  0.9694396215058028\n",
            "g(X_1):  0.01476563400590484\n",
            "X_2:  0.3603977790284516\n",
            "g(X_2):  0.81164069869352\n",
            "X_3:  0.9561459132077851\n",
            "g(X_3):  0.025125631016510067\n",
            "X_4:  0.4369321001330636\n",
            "g(X_4):  0.7277723036775081\n",
            "X_5:  0.5928268003076673\n",
            "g(X_5):  0.522301903711421\n"
          ]
        }
      ],
      "source": [
        "mytable1 = PrettyTable(['X_i', 'g(X_i)'])\n",
        "mytable2 = PrettyTable(['Y_i'])\n",
        "for i in range(N):\n",
        "       X = a + numeros[i]*(b-a)\n",
        "       print(\"X_\" +str(contador + 1) + \": \", X)\n",
        "       g = funcion(X)\n",
        "       print(\"g(X_\"+str(contador + 1) + \"): \", g)\n",
        "       contador +=1\n",
        "       mytable1.add_row([X,g])"
      ]
    },
    {
      "cell_type": "code",
      "source": [
        "for i in range(N, 2*N):\n",
        "    Y = numeros[i]*c\n",
        "    lista.append ('Éxito' if Y <= g else 'Fracaso')"
      ],
      "metadata": {
        "id": "Donnzdey1wUx"
      },
      "id": "Donnzdey1wUx",
      "execution_count": 321,
      "outputs": []
    },
    {
      "cell_type": "code",
      "source": [
        "Nh = lista.count('Éxito')\n",
        "print(\"El número de éxitos es: \", Nh)"
      ],
      "metadata": {
        "colab": {
          "base_uri": "https://localhost:8080/"
        },
        "id": "kKBmN8DI_jqs",
        "outputId": "a055b861-1d4d-43b4-e695-49f6a1cb3c9b"
      },
      "id": "kKBmN8DI_jqs",
      "execution_count": 322,
      "outputs": [
        {
          "output_type": "stream",
          "name": "stdout",
          "text": [
            "El número de éxitos es:  4\n"
          ]
        }
      ]
    },
    {
      "cell_type": "code",
      "source": [
        "mytable1.add_autoindex('No.')\n",
        "mytable2.add_autoindex('No.')"
      ],
      "metadata": {
        "id": "WVb62DzD_lh0"
      },
      "id": "WVb62DzD_lh0",
      "execution_count": 323,
      "outputs": []
    },
    {
      "cell_type": "code",
      "source": [
        "print(mytable1)\n",
        "print(mytable2)"
      ],
      "metadata": {
        "colab": {
          "base_uri": "https://localhost:8080/"
        },
        "id": "mklfS83S_nKs",
        "outputId": "d9e09654-fae5-4e0a-ee3d-be8a07e84a7c"
      },
      "id": "mklfS83S_nKs",
      "execution_count": 324,
      "outputs": [
        {
          "output_type": "stream",
          "name": "stdout",
          "text": [
            "+-----+-----+--------------------+----------------------+\n",
            "| No. | No. |        X_i         |        g(X_i)        |\n",
            "+-----+-----+--------------------+----------------------+\n",
            "|  1  |  1  | 0.9694396215058028 | 0.01476563400590484  |\n",
            "|  2  |  2  | 0.3603977790284516 |   0.81164069869352   |\n",
            "|  3  |  3  | 0.9561459132077851 | 0.025125631016510067 |\n",
            "|  4  |  4  | 0.4369321001330636 |  0.7277723036775081  |\n",
            "|  5  |  5  | 0.5928268003076673 |  0.522301903711421   |\n",
            "+-----+-----+--------------------+----------------------+\n",
            "+-----+-----+-----+\n",
            "| No. | No. | Y_i |\n",
            "+-----+-----+-----+\n",
            "+-----+-----+-----+\n"
          ]
        }
      ]
    },
    {
      "cell_type": "code",
      "source": [
        "theta_1 = c*(b-a)*(Nh/N)\n",
        "print(\"El valor estimado para la integral es: \", theta_1)"
      ],
      "metadata": {
        "colab": {
          "base_uri": "https://localhost:8080/"
        },
        "id": "nnhRn0J__pVj",
        "outputId": "8a6d6d9d-d953-45c5-c28c-2da89fff876a"
      },
      "id": "nnhRn0J__pVj",
      "execution_count": 325,
      "outputs": [
        {
          "output_type": "stream",
          "name": "stdout",
          "text": [
            "El valor estimado para la integral es:  1.6\n"
          ]
        }
      ]
    }
  ],
  "metadata": {
    "kernelspec": {
      "display_name": "Python 3 (ipykernel)",
      "language": "python",
      "name": "python3"
    },
    "language_info": {
      "codemirror_mode": {
        "name": "ipython",
        "version": 3
      },
      "file_extension": ".py",
      "mimetype": "text/x-python",
      "name": "python",
      "nbconvert_exporter": "python",
      "pygments_lexer": "ipython3",
      "version": "3.7.3"
    },
    "colab": {
      "provenance": [],
      "include_colab_link": true
    }
  },
  "nbformat": 4,
  "nbformat_minor": 5
}