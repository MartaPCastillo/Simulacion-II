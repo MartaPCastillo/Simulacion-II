{
  "cells": [
    {
      "cell_type": "markdown",
      "metadata": {
        "id": "view-in-github",
        "colab_type": "text"
      },
      "source": [
        "<a href=\"https://colab.research.google.com/github/MartaPCastillo/Simulacion-II/blob/main/M%C3%A9todo_Monte_Carlo_de_Acierto_y_Error.ipynb\" target=\"_parent\"><img src=\"https://colab.research.google.com/assets/colab-badge.svg\" alt=\"Open In Colab\"/></a>"
      ]
    },
    {
      "cell_type": "markdown",
      "id": "a5cc0a87",
      "metadata": {
        "id": "a5cc0a87"
      },
      "source": [
        "# Método Monte Carlo de Acierto y Error"
      ]
    },
    {
      "cell_type": "markdown",
      "id": "0e218d98",
      "metadata": {
        "id": "0e218d98"
      },
      "source": [
        "### 1. Identifique las variables\n",
        "\n",
        "Aquellas cuyo comportamiento define el comportamiento o la evoución global del sistema real."
      ]
    },
    {
      "cell_type": "markdown",
      "id": "3ebcd0f2",
      "metadata": {
        "id": "3ebcd0f2"
      },
      "source": [
        "### 2. Determine la distribución de probabilidad\n",
        "\n",
        "Elija el tipo de distribución de probabilidad que mejor defina el comportamiento aleatorio de cada una de las variables del sistema identificadas en el paso anterior."
      ]
    },
    {
      "cell_type": "markdown",
      "id": "803801d5",
      "metadata": {
        "id": "803801d5"
      },
      "source": [
        "### 3. Modele las variables aleatorias\n",
        "\n",
        "Cosntruya un modelo fiel de la aleatoriedad de las variables del sistema. Simular el comportamiento del sistema implica generar muestras aleatorias de cada variable que sigan fielmente la distribución de probabilidad correspondiente."
      ]
    },
    {
      "cell_type": "markdown",
      "id": "33709223",
      "metadata": {
        "id": "33709223"
      },
      "source": [
        "### 4. Defina el modelo del sistema y los objetivos de la simulación\n",
        "\n",
        "Fije los objetivos y diseñe un modelo del sistema real que abstraiga sus propiedades más relevantes. Todo error en el modelo (o su implementación computacional) puede dar lugar a conclusiones equivocadas.\n",
        "\n",
        "Antes de experimentar con el modelo, asegurarse de que refleja fielmente el sistema real **validando** el mismo a partir de datos reales, para ello compare los resultados obtenidos de la simulación con los producidos por el sistema."
      ]
    },
    {
      "cell_type": "markdown",
      "id": "7f853065",
      "metadata": {
        "id": "7f853065"
      },
      "source": [
        "### 5. Diseñe el experimento\n",
        "\n",
        "Diseñe un experimento así como las ejecuciones concretas del mismo, los escenarios que desea estudiar para alcanzar los objetivos fijados. El experimento consiste en generar valores de las variables cuyo comportamiento define el comportamiento del sistema y analizar este ante dichos valores."
      ]
    },
    {
      "cell_type": "markdown",
      "id": "15ae61c8",
      "metadata": {
        "id": "15ae61c8"
      },
      "source": [
        "### 6. Repita el experimento $n$ veces\n",
        "\n",
        "Así dispondrá de $n$ observaciones sobre el comportamiento del sistema, lo que permitirá entender su funcionamiento así como evaluar el desempeño del mismo frente a los diversos escenarios establecidos.\n",
        "\n",
        "El **método Monte Carlo** se basa en la **Ley Fuerte de los Grandes Números** y el **Teorema del Límite Central**."
      ]
    },
    {
      "cell_type": "markdown",
      "id": "51ce3fa1",
      "metadata": {
        "id": "51ce3fa1"
      },
      "source": [
        "## Ejemplo\n",
        "\n",
        "Calcule la probabilidad de que aparezcan dos caras lanzando tres veces una moneda al aire.\n",
        "\n",
        "1. Analíticamente.\n",
        "2. Mediante simulación."
      ]
    },
    {
      "cell_type": "markdown",
      "id": "6f1b4105",
      "metadata": {
        "id": "6f1b4105"
      },
      "source": [
        "Analiticamente:"
      ]
    },
    {
      "cell_type": "code",
      "execution_count": null,
      "id": "bb5e678d",
      "metadata": {
        "id": "bb5e678d"
      },
      "outputs": [],
      "source": []
    },
    {
      "cell_type": "markdown",
      "id": "564ca694",
      "metadata": {
        "id": "564ca694"
      },
      "source": [
        "Por simulación: Construimos el modelo en varios pasos."
      ]
    },
    {
      "cell_type": "markdown",
      "id": "fbbc8571",
      "metadata": {
        "id": "fbbc8571"
      },
      "source": [
        "**PASO 1**. Defina las variables que intervienen en el modelo."
      ]
    },
    {
      "cell_type": "code",
      "execution_count": 16,
      "id": "37c5f31c",
      "metadata": {
        "colab": {
          "base_uri": "https://localhost:8080/"
        },
        "id": "37c5f31c",
        "outputId": "8ae4a5c2-125d-44d3-affc-0b89ba205c38"
      },
      "outputs": [
        {
          "name": "stdout",
          "output_type": "stream",
          "text": [
            "Ingrese el valor de a (límite inferior): 0\n",
            "Ingrese el valor de b (límite superior): 1\n",
            "Ingrese el valor de c: 2\n"
          ]
        }
      ],
      "source": [
        "a = input(\"Ingrese el valor de a (límite inferior): \")\n",
        "a = float(a)\n",
        "b = input(\"Ingrese el valor de b (límite superior): \")\n",
        "b = float(b)\n",
        "c = input(\"Ingrese el valor de c: \")\n",
        "c = float(c)\n",
        "N = 5"
      ]
    },
    {
      "cell_type": "markdown",
      "id": "edb6b074",
      "metadata": {
        "id": "edb6b074"
      },
      "source": [
        "**PASO 5**. Genere números aleatorios."
      ]
    },
    {
      "cell_type": "code",
      "execution_count": null,
      "id": "7d56c432",
      "metadata": {
        "id": "7d56c432"
      },
      "outputs": [],
      "source": []
    },
    {
      "cell_type": "markdown",
      "id": "d270399e",
      "metadata": {
        "id": "d270399e"
      },
      "source": [
        "**PASO 7**. Realice el programa que implemente el método monte carlo."
      ]
    },
    {
      "cell_type": "code",
      "execution_count": 17,
      "id": "2fd22e33",
      "metadata": {
        "id": "2fd22e33"
      },
      "outputs": [],
      "source": [
        "import numpy as np\n",
        "import random\n",
        "import matplotlib.pyplot as plt\n",
        "from prettytable import PrettyTable"
      ]
    },
    {
      "cell_type": "code",
      "source": [
        "contador = 0\n",
        "contador2 = 0\n",
        "contador = int(contador)\n",
        "contador2 = int(contador2)\n",
        "lista=[]\n",
        "X = np.array([])"
      ],
      "metadata": {
        "id": "ZTVWpYA0_P5t"
      },
      "id": "ZTVWpYA0_P5t",
      "execution_count": 18,
      "outputs": []
    },
    {
      "cell_type": "code",
      "source": [
        "mytable0 = PrettyTable([])\n",
        "\n",
        "numeros = [random.random() for x in range(2*N)]\n",
        "mytable0.add_column(\"Aleatorios\", numeros)\n",
        "\n",
        "print(mytable0)"
      ],
      "metadata": {
        "colab": {
          "base_uri": "https://localhost:8080/"
        },
        "id": "Q-IPVZt6_Xot",
        "outputId": "9656ddfc-07f4-4bd7-b798-42ae1a7db3a1"
      },
      "id": "Q-IPVZt6_Xot",
      "execution_count": 19,
      "outputs": [
        {
          "output_type": "stream",
          "name": "stdout",
          "text": [
            "+----------------------+\n",
            "|      Aleatorios      |\n",
            "+----------------------+\n",
            "| 0.020514194346394343 |\n",
            "|  0.8441855420738261  |\n",
            "|  0.6861435434364939  |\n",
            "|  0.4484086379104435  |\n",
            "|  0.7270845328491908  |\n",
            "|  0.8046983300010855  |\n",
            "| 0.36932352142387304  |\n",
            "|  0.4156152488815529  |\n",
            "|  0.8766215717691129  |\n",
            "| 0.07039700961339601  |\n",
            "+----------------------+\n"
          ]
        }
      ]
    },
    {
      "cell_type": "code",
      "source": [
        "def funcion(X_i):\n",
        "  g=(1-(X_i)**2)**(3/2)\n",
        "  return g"
      ],
      "metadata": {
        "id": "WWIxiNIZuAQg"
      },
      "id": "WWIxiNIZuAQg",
      "execution_count": 20,
      "outputs": []
    },
    {
      "cell_type": "code",
      "execution_count": 21,
      "id": "32719c0f",
      "metadata": {
        "colab": {
          "base_uri": "https://localhost:8080/"
        },
        "id": "32719c0f",
        "outputId": "80cc51b1-c67a-4e88-eadf-76ae965bf447"
      },
      "outputs": [
        {
          "output_type": "stream",
          "name": "stdout",
          "text": [
            "X_1:  0.020514194346394343\n",
            "g(X_1):  0.9993688181625295\n",
            "X_2:  0.8441855420738261\n",
            "g(X_2):  0.1540346936237138\n",
            "X_3:  0.6861435434364939\n",
            "g(X_3):  0.38498022031059076\n",
            "X_4:  0.4484086379104435\n",
            "g(X_4):  0.7141062662709252\n",
            "X_5:  0.7270845328491908\n",
            "g(X_5):  0.3236030575885096\n"
          ]
        }
      ],
      "source": [
        "mytable1 = PrettyTable(['X_i', 'g(X_i)'])\n",
        "\n",
        "for i in range(N):\n",
        "       X = a + numeros[i]*(b-a)\n",
        "       print(\"X_\" +str(contador + 1) + \": \", X)\n",
        "       g = funcion(X)\n",
        "       print(\"g(X_\"+str(contador + 1) + \"): \", g)\n",
        "       contador +=1\n",
        "       mytable1.add_row([X,g])"
      ]
    },
    {
      "cell_type": "code",
      "source": [
        "mytable2 = PrettyTable(['Y_i'])\n",
        "\n",
        "for i in range (N, 2*N):\n",
        "  print(\"Número aleatorio tomado: \", numeros[i])\n",
        "  Y = numeros[i]*c\n",
        "  print(\"Y_\" +str(contador2 + 1) + \": \", Y)\n",
        "  contador2 +=1\n",
        "  mytable2.add_row([Y])"
      ],
      "metadata": {
        "id": "QdEC5B9_A9PA",
        "outputId": "756897a2-1f4b-4b1f-cb45-0e1e571693bf",
        "colab": {
          "base_uri": "https://localhost:8080/"
        }
      },
      "id": "QdEC5B9_A9PA",
      "execution_count": 22,
      "outputs": [
        {
          "output_type": "stream",
          "name": "stdout",
          "text": [
            "Número aleatorio tomado:  0.8046983300010855\n",
            "Y_1:  1.609396660002171\n",
            "Número aleatorio tomado:  0.36932352142387304\n",
            "Y_2:  0.7386470428477461\n",
            "Número aleatorio tomado:  0.4156152488815529\n",
            "Y_3:  0.8312304977631058\n",
            "Número aleatorio tomado:  0.8766215717691129\n",
            "Y_4:  1.7532431435382259\n",
            "Número aleatorio tomado:  0.07039700961339601\n",
            "Y_5:  0.14079401922679202\n"
          ]
        }
      ]
    },
    {
      "cell_type": "code",
      "source": [
        "for i in range(N, 2*N):\n",
        "    Y = numeros[i]*c\n",
        "    lista.append ('Éxito' if Y <= g else 'Fracaso')"
      ],
      "metadata": {
        "id": "Donnzdey1wUx"
      },
      "id": "Donnzdey1wUx",
      "execution_count": 23,
      "outputs": []
    },
    {
      "cell_type": "code",
      "source": [
        "Nh = lista.count('Éxito')\n",
        "print(\"El número de éxitos es: \", Nh)"
      ],
      "metadata": {
        "colab": {
          "base_uri": "https://localhost:8080/"
        },
        "id": "kKBmN8DI_jqs",
        "outputId": "5f81d964-842a-460a-e836-2172902962fa"
      },
      "id": "kKBmN8DI_jqs",
      "execution_count": 24,
      "outputs": [
        {
          "output_type": "stream",
          "name": "stdout",
          "text": [
            "El número de éxitos es:  1\n"
          ]
        }
      ]
    },
    {
      "cell_type": "code",
      "source": [
        "mytable1.add_autoindex('No.')\n",
        "mytable2.add_autoindex('No.')"
      ],
      "metadata": {
        "id": "WVb62DzD_lh0"
      },
      "id": "WVb62DzD_lh0",
      "execution_count": 25,
      "outputs": []
    },
    {
      "cell_type": "code",
      "source": [
        "print(mytable1)"
      ],
      "metadata": {
        "colab": {
          "base_uri": "https://localhost:8080/"
        },
        "id": "mklfS83S_nKs",
        "outputId": "b08cfd5d-f794-4a29-ffb6-a53adf2c8ea1"
      },
      "id": "mklfS83S_nKs",
      "execution_count": 26,
      "outputs": [
        {
          "output_type": "stream",
          "name": "stdout",
          "text": [
            "+-----+----------------------+---------------------+\n",
            "| No. |         X_i          |        g(X_i)       |\n",
            "+-----+----------------------+---------------------+\n",
            "|  1  | 0.020514194346394343 |  0.9993688181625295 |\n",
            "|  2  |  0.8441855420738261  |  0.1540346936237138 |\n",
            "|  3  |  0.6861435434364939  | 0.38498022031059076 |\n",
            "|  4  |  0.4484086379104435  |  0.7141062662709252 |\n",
            "|  5  |  0.7270845328491908  |  0.3236030575885096 |\n",
            "+-----+----------------------+---------------------+\n"
          ]
        }
      ]
    },
    {
      "cell_type": "code",
      "source": [
        "print(mytable2)"
      ],
      "metadata": {
        "id": "fRGdJP1zA03K",
        "outputId": "97993037-16e5-4993-e228-748067d5d957",
        "colab": {
          "base_uri": "https://localhost:8080/"
        }
      },
      "id": "fRGdJP1zA03K",
      "execution_count": 27,
      "outputs": [
        {
          "output_type": "stream",
          "name": "stdout",
          "text": [
            "+-----+---------------------+\n",
            "| No. |         Y_i         |\n",
            "+-----+---------------------+\n",
            "|  1  |  1.609396660002171  |\n",
            "|  2  |  0.7386470428477461 |\n",
            "|  3  |  0.8312304977631058 |\n",
            "|  4  |  1.7532431435382259 |\n",
            "|  5  | 0.14079401922679202 |\n",
            "+-----+---------------------+\n"
          ]
        }
      ]
    },
    {
      "cell_type": "code",
      "source": [
        "theta_1 = c*(b-a)*(Nh/N)\n",
        "print(\"El valor estimado para la integral es: \", theta_1)"
      ],
      "metadata": {
        "colab": {
          "base_uri": "https://localhost:8080/"
        },
        "id": "nnhRn0J__pVj",
        "outputId": "1d9f67a6-0a30-4a9f-8d12-87bb9cc73230"
      },
      "id": "nnhRn0J__pVj",
      "execution_count": 28,
      "outputs": [
        {
          "output_type": "stream",
          "name": "stdout",
          "text": [
            "El valor estimado para la integral es:  0.4\n"
          ]
        }
      ]
    }
  ],
  "metadata": {
    "kernelspec": {
      "display_name": "Python 3 (ipykernel)",
      "language": "python",
      "name": "python3"
    },
    "language_info": {
      "codemirror_mode": {
        "name": "ipython",
        "version": 3
      },
      "file_extension": ".py",
      "mimetype": "text/x-python",
      "name": "python",
      "nbconvert_exporter": "python",
      "pygments_lexer": "ipython3",
      "version": "3.7.3"
    },
    "colab": {
      "provenance": [],
      "include_colab_link": true
    }
  },
  "nbformat": 4,
  "nbformat_minor": 5
}