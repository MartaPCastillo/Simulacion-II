{
  "cells": [
    {
      "cell_type": "markdown",
      "metadata": {
        "id": "view-in-github",
        "colab_type": "text"
      },
      "source": [
        "<a href=\"https://colab.research.google.com/github/MartaPCastillo/Simulacion-II/blob/main/Ejercicio.ipynb\" target=\"_parent\"><img src=\"https://colab.research.google.com/assets/colab-badge.svg\" alt=\"Open In Colab\"/></a>"
      ]
    },
    {
      "cell_type": "markdown",
      "id": "a5cc0a87",
      "metadata": {
        "id": "a5cc0a87"
      },
      "source": [
        "# Metodología de la Simulación"
      ]
    },
    {
      "cell_type": "markdown",
      "id": "0e218d98",
      "metadata": {
        "id": "0e218d98"
      },
      "source": [
        "### 1. Identifique las variables\n",
        "\n",
        "Aquellas cuyo comportamiento define el comportamiento o la evoución global del sistema real."
      ]
    },
    {
      "cell_type": "markdown",
      "id": "3ebcd0f2",
      "metadata": {
        "id": "3ebcd0f2"
      },
      "source": [
        "### 2. Determine la distribución de probabilidad\n",
        "\n",
        "Elija el tipo de distribución de probabilidad que mejor defina el comportamiento aleatorio de cada una de las variables del sistema identificadas en el paso anterior."
      ]
    },
    {
      "cell_type": "markdown",
      "id": "803801d5",
      "metadata": {
        "id": "803801d5"
      },
      "source": [
        "### 3. Modele las variables aleatorias\n",
        "\n",
        "Cosntruya un modelo fiel de la aleatoriedad de las variables del sistema. Simular el comportamiento del sistema implica generar muestras aleatorias de cada variable que sigan fielmente la distribución de probabilidad correspondiente."
      ]
    },
    {
      "cell_type": "markdown",
      "id": "33709223",
      "metadata": {
        "id": "33709223"
      },
      "source": [
        "### 4. Defina el modelo del sistema y los objetivos de la simulación\n",
        "\n",
        "Fije los objetivos y diseñe un modelo del sistema real que abstraiga sus propiedades más relevantes. Todo error en el modelo (o su implementación computacional) puede dar lugar a conclusiones equivocadas.\n",
        "\n",
        "Antes de experimentar con el modelo, asegurarse de que refleja fielmente el sistema real **validando** el mismo a partir de datos reales, para ello compare los resultados obtenidos de la simulación con los producidos por el sistema."
      ]
    },
    {
      "cell_type": "markdown",
      "id": "7f853065",
      "metadata": {
        "id": "7f853065"
      },
      "source": [
        "### 5. Diseñe el experimento\n",
        "\n",
        "Diseñe un experimento así como las ejecuciones concretas del mismo, los escenarios que desea estudiar para alcanzar los objetivos fijados. El experimento consiste en generar valores de las variables cuyo comportamiento define el comportamiento del sistema y analizar este ante dichos valores."
      ]
    },
    {
      "cell_type": "markdown",
      "id": "15ae61c8",
      "metadata": {
        "id": "15ae61c8"
      },
      "source": [
        "### 6. Repita el experimento $n$ veces\n",
        "\n",
        "Así dispondrá de $n$ observaciones sobre el comportamiento del sistema, lo que permitirá entender su funcionamiento así como evaluar el desempeño del mismo frente a los diversos escenarios establecidos.\n",
        "\n",
        "El **método Monte Carlo** se basa en la **Ley Fuerte de los Grandes Números** y el **Teorema del Límite Central**."
      ]
    },
    {
      "cell_type": "markdown",
      "id": "51ce3fa1",
      "metadata": {
        "id": "51ce3fa1"
      },
      "source": [
        "## Ejemplo\n",
        "\n",
        "Calcule la probabilidad de que aparezcan dos caras lanzando tres veces una moneda al aire.\n",
        "\n",
        "1. Analíticamente.\n",
        "2. Mediante simulación."
      ]
    },
    {
      "cell_type": "markdown",
      "id": "6f1b4105",
      "metadata": {
        "id": "6f1b4105"
      },
      "source": [
        "Analiticamente:"
      ]
    },
    {
      "cell_type": "code",
      "execution_count": null,
      "id": "bb5e678d",
      "metadata": {
        "id": "bb5e678d"
      },
      "outputs": [],
      "source": []
    },
    {
      "cell_type": "markdown",
      "id": "564ca694",
      "metadata": {
        "id": "564ca694"
      },
      "source": [
        "Por simulación: Construimos el modelo en varios pasos."
      ]
    },
    {
      "cell_type": "markdown",
      "id": "fbbc8571",
      "metadata": {
        "id": "fbbc8571"
      },
      "source": [
        "**PASO 1**. Defina las variables que intervienen en el modelo."
      ]
    },
    {
      "cell_type": "code",
      "execution_count": null,
      "id": "37c5f31c",
      "metadata": {
        "id": "37c5f31c"
      },
      "outputs": [],
      "source": []
    },
    {
      "cell_type": "markdown",
      "id": "4d3899f3",
      "metadata": {
        "id": "4d3899f3"
      },
      "source": [
        "**PASO 2**. Formule la distribución de probabilidad de cada variable."
      ]
    },
    {
      "cell_type": "markdown",
      "id": "fefa1334",
      "metadata": {
        "id": "fefa1334"
      },
      "source": [
        "\n",
        "|      |**Sol**|**Aguila**|\n",
        "|------|-------|----------|\n",
        "|f(x)|         |          |"
      ]
    },
    {
      "cell_type": "markdown",
      "id": "fd02116a",
      "metadata": {
        "id": "fd02116a"
      },
      "source": [
        "**PASO 3**. Enumere la distribución acumulada de probabilidad de cada variable."
      ]
    },
    {
      "cell_type": "markdown",
      "id": "59e252c6",
      "metadata": {
        "id": "59e252c6"
      },
      "source": [
        "|      |**Sol**|**Aguila**|\n",
        "|------|-------|----------|\n",
        "|f(x)  |       |          |\n",
        "|F(x)  |       |          |"
      ]
    },
    {
      "cell_type": "markdown",
      "id": "4852dcac",
      "metadata": {
        "id": "4852dcac"
      },
      "source": [
        "**PASO 4**. Establezca el intervalo de números aleatorios correspondiente a cada valor de cada una de las variables."
      ]
    },
    {
      "cell_type": "markdown",
      "id": "905db069",
      "metadata": {
        "id": "905db069"
      },
      "source": [
        "|           |**Sol**|**Aguila**|\n",
        "|-----------|-------|----------|\n",
        "|f(x)       |       |          |\n",
        "|F(x)       |       |          |\n",
        "|Intervalos |       |          |"
      ]
    },
    {
      "cell_type": "markdown",
      "id": "edb6b074",
      "metadata": {
        "id": "edb6b074"
      },
      "source": [
        "**PASO 5**. Genere números aleatorios."
      ]
    },
    {
      "cell_type": "code",
      "execution_count": null,
      "id": "7d56c432",
      "metadata": {
        "id": "7d56c432"
      },
      "outputs": [],
      "source": []
    },
    {
      "cell_type": "markdown",
      "id": "f38f3396",
      "metadata": {
        "id": "f38f3396"
      },
      "source": [
        "**PASO 6**. Simule un lanzamiento."
      ]
    },
    {
      "cell_type": "markdown",
      "id": "a68ba17e",
      "metadata": {
        "id": "a68ba17e"
      },
      "source": [
        "Si Número de caras = 2       \n",
        "\n",
        "¿Aparecen dos caras? = **1**\n",
        "\n",
        "Si Número de caras ≠ 2       \n",
        "\n",
        "¿Aparecen dos caras? = **0**"
      ]
    },
    {
      "cell_type": "markdown",
      "id": "d270399e",
      "metadata": {
        "id": "d270399e"
      },
      "source": [
        "**PASO 7**. Obtenga la gráfica de estabilización que indica que el tamaño de muestra utilizado es suficiente para\n",
        "garantizar la convergencia del resultado."
      ]
    },
    {
      "cell_type": "code",
      "execution_count": 4,
      "id": "2fd22e33",
      "metadata": {
        "id": "2fd22e33"
      },
      "outputs": [],
      "source": [
        "import numpy as np\n",
        "import random\n",
        "import matplotlib.pyplot as plt"
      ]
    },
    {
      "cell_type": "code",
      "source": [
        "def hola(n):\n",
        "  favorable = 0\n",
        "  i = 0\n",
        "  Lista = []\n",
        "  for i in range (n):\n",
        "    X =(random.uniform(0,1))\n",
        "    Y = (random.uniform(0,1))\n",
        "    if X+Y <= 1 and X*Y<=0.2222:\n",
        "        favorable +=1\n",
        "        i += 1\n",
        "        probabilidad = favorable/(i)\n",
        "        Lista.append(probabilidad)\n",
        "  return Lista"
      ],
      "metadata": {
        "id": "_ftiTYEZrjqh"
      },
      "id": "_ftiTYEZrjqh",
      "execution_count": 13,
      "outputs": []
    },
    {
      "cell_type": "code",
      "source": [
        "Nf = hola(1000)\n",
        "print(Nf)"
      ],
      "metadata": {
        "id": "9Sqb2ToSsFo6",
        "outputId": "074ca400-d6ac-454e-dd37-f633d6f4d9b7",
        "colab": {
          "base_uri": "https://localhost:8080/"
        }
      },
      "id": "9Sqb2ToSsFo6",
      "execution_count": 14,
      "outputs": [
        {
          "output_type": "stream",
          "name": "stdout",
          "text": [
            "[0.5, 0.3333333333333333, 0.375, 0.4444444444444444, 0.5, 0.42857142857142855, 0.4666666666666667, 0.5, 0.45, 0.47619047619047616, 0.4583333333333333, 0.48, 0.5, 0.4666666666666667, 0.4411764705882353, 0.42105263157894735, 0.4358974358974359, 0.45, 0.4418604651162791, 0.45454545454545453, 0.45652173913043476, 0.44, 0.4423076923076923, 0.4528301886792453, 0.46296296296296297, 0.4727272727272727, 0.47368421052631576, 0.4745762711864407, 0.47540983606557374, 0.4838709677419355, 0.49206349206349204, 0.5, 0.5076923076923077, 0.5151515151515151, 0.5223880597014925, 0.5294117647058824, 0.5211267605633803, 0.5277777777777778, 0.5342465753424658, 0.5333333333333333, 0.5394736842105263, 0.5384615384615384, 0.5443037974683544, 0.5432098765432098, 0.5357142857142857, 0.5287356321839081, 0.5108695652173914, 0.5161290322580645, 0.5157894736842106, 0.5102040816326531, 0.51, 0.5148514851485149, 0.5196078431372549, 0.5142857142857142, 0.514018691588785, 0.5185185185185185, 0.5135135135135135, 0.5178571428571429, 0.5175438596491229, 0.5128205128205128, 0.5083333333333333, 0.512396694214876, 0.5121951219512195, 0.5161290322580645, 0.52, 0.5238095238095238, 0.5275590551181102, 0.5230769230769231, 0.5149253731343284, 0.5185185185185185, 0.5182481751824818, 0.5142857142857142, 0.5177304964539007, 0.49333333333333335, 0.4934210526315789, 0.48717948717948717, 0.4873417721518987, 0.4875, 0.4906832298136646, 0.49079754601226994, 0.49390243902439024, 0.49696969696969695, 0.5, 0.4970414201183432, 0.5, 0.5029239766081871, 0.5058139534883721, 0.5086705202312138, 0.5056818181818182, 0.5084745762711864, 0.5083798882681564, 0.5111111111111111, 0.5138121546961326, 0.5136612021857924, 0.5135135135135135, 0.5161290322580645, 0.5187165775401069, 0.5185185185185185, 0.5103092783505154, 0.5128205128205128, 0.5153061224489796, 0.5151515151515151, 0.5175879396984925, 0.5174129353233831, 0.5147058823529411, 0.5096153846153846, 0.5119617224880383, 0.5118483412322274, 0.5046296296296297, 0.5, 0.5, 0.49777777777777776, 0.5, 0.5022026431718062, 0.5043859649122807, 0.5065502183406113, 0.508695652173913, 0.5108225108225108, 0.5129310344827587, 0.5128205128205128, 0.510548523206751, 0.5126050420168067, 0.5125, 0.5145228215767634, 0.5165289256198347, 0.5142857142857142, 0.5120967741935484, 0.5140562248995983, 0.516, 0.5179282868525896, 0.5198412698412699, 0.5176470588235295, 0.5175097276264592, 0.5095057034220533, 0.5113636363636364, 0.5112781954887218, 0.5131086142322098, 0.5111111111111111, 0.5129151291512916, 0.5128205128205128, 0.5108695652173914, 0.5126353790613718, 0.5143884892086331, 0.5161290322580645, 0.5178571428571429, 0.512280701754386, 0.5121951219512195, 0.5121107266435986, 0.5068027210884354, 0.5067567567567568, 0.5084175084175084, 0.5100671140939598, 0.51, 0.5099337748344371, 0.5115511551155115, 0.5098039215686274, 0.511400651465798, 0.511326860841424, 0.5112540192926045, 0.5128205128205128, 0.5111111111111111, 0.5126582278481012, 0.5141955835962145, 0.5125, 0.514018691588785, 0.5123456790123457, 0.5030120481927711, 0.5, 0.49852507374631266, 0.49853372434017595, 0.49709302325581395, 0.49710982658959535, 0.49855907780979825, 0.5, 0.501432664756447, 0.5028571428571429, 0.49859154929577465, 0.5, 0.5014005602240896, 0.5013927576601671, 0.5013850415512465, 0.4986301369863014, 0.4986376021798365, 0.5, 0.5013550135501355, 0.5027027027027027, 0.4973404255319149, 0.4986737400530504, 0.49868073878627966, 0.4947916666666667, 0.4961038961038961, 0.49740932642487046, 0.49870801033591733, 0.5, 0.5012853470437018, 0.5, 0.5, 0.4987405541561713, 0.49874686716791977, 0.5, 0.5012468827930174, 0.5024875621890548, 0.5037220843672456, 0.5024630541871922, 0.5036855036855037, 0.5036674816625917, 0.5048780487804878, 0.5060827250608273, 0.5072815533980582, 0.5060240963855421, 0.5072115384615384, 0.5083932853717026, 0.5083532219570406, 0.5083135391923991, 0.508274231678487, 0.508235294117647, 0.5093896713615024, 0.5105386416861827, 0.5116822429906542, 0.5128205128205128, 0.513953488372093, 0.511520737327189, 0.5126436781609195, 0.5137614678899083, 0.5148741418764302, 0.5159817351598174, 0.5170842824601367, 0.5146726862302483, 0.5134529147982063, 0.5133928571428571, 0.5144766146993318, 0.5155555555555555, 0.516629711751663, 0.5165562913907285, 0.5164835164835165, 0.514161220043573, 0.5140997830802603, 0.5129310344827587, 0.513978494623656, 0.5128205128205128, 0.510593220338983, 0.5116279069767442, 0.511578947368421, 0.5126050420168067, 0.5136268343815513, 0.5125, 0.5124481327800829, 0.5134575569358178, 0.5144628099173554, 0.5154639175257731, 0.5164609053497943, 0.5174537987679672, 0.515274949083503, 0.5152129817444219, 0.5161943319838057, 0.5171717171717172, 0.5160642570281124, 0.516, 0.5159362549800797, 0.5158730158730159, 0.5168316831683168, 0.5167652859960552, 0.5177165354330708, 0.518664047151277, 0.5165692007797271, 0.5175097276264592, 0.5154440154440154, 0.5163776493256262, 0.5173076923076924, 0.5142857142857142, 0.5142314990512334, 0.5141776937618148, 0.5150943396226415, 0.5160075329566854, 0.5169172932330827, 0.5158878504672897, 0.512962962962963, 0.5119705340699816, 0.5128676470588235, 0.5137614678899083, 0.5137111517367459, 0.5127272727272727, 0.5136116152450091, 0.5144927536231884, 0.512589928057554, 0.5134649910233393, 0.514336917562724, 0.5152057245080501, 0.5160714285714286, 0.5169340463458111, 0.5177935943060499, 0.5186500888099467, 0.5195035460992907, 0.5166959578207382, 0.5139372822299652, 0.5147826086956522, 0.513840830449827, 0.5146804835924007, 0.5146299483648882, 0.5154639175257731, 0.5154109589041096, 0.5162393162393163, 0.5153061224489796, 0.5161290322580645, 0.5169491525423728, 0.5168918918918919, 0.5177065767284992, 0.5133333333333333, 0.5141430948419301, 0.5132450331125827, 0.5132013201320133, 0.514003294892916, 0.5122749590834698, 0.5130718954248366, 0.5138662316476346, 0.5146579804560261, 0.5154471544715448, 0.5153970826580226, 0.5161812297734628, 0.5169628432956381, 0.5160771704180064, 0.5168539325842697, 0.5159744408945687, 0.5167464114832536, 0.517515923566879, 0.5174603174603175, 0.5174050632911392, 0.5181674565560821, 0.5172955974842768, 0.514820592823713, 0.5155763239875389, 0.5163297045101088, 0.5154798761609907, 0.5154320987654321, 0.5153846153846153, 0.5161290322580645, 0.5168711656441718, 0.5176110260336907, 0.518348623853211, 0.5190839694656488, 0.5182370820668692, 0.5181818181818182, 0.5173453996983409, 0.5180722891566265, 0.518796992481203, 0.5195195195195195, 0.52023988005997, 0.518628912071535, 0.5178041543026706, 0.5177514792899408, 0.518463810930576, 0.5176470588235295, 0.5183553597650514, 0.5183016105417276, 0.5182481751824818, 0.5189504373177842, 0.519650655021834, 0.5203488372093024, 0.521044992743106, 0.5202312138728323, 0.5201729106628242, 0.520863309352518, 0.5200573065902578, 0.5207439198855508, 0.51994301994302, 0.5206258890469416, 0.5213068181818182, 0.5205091937765205, 0.5211864406779662, 0.5218617771509168, 0.5225352112676056, 0.5232067510548524, 0.523876404494382, 0.5238095238095238, 0.5244755244755245, 0.5251396648044693, 0.5258019525801952, 0.5257301808066759, 0.5249307479224377, 0.5248618784530387, 0.5233516483516484, 0.52400548696845, 0.523224043715847, 0.5238744884038199, 0.5223880597014925, 0.5223274695534507, 0.522972972972973, 0.521505376344086, 0.5214477211796247, 0.5213903743315508, 0.5220293724966623, 0.5226666666666666, 0.5212201591511937, 0.5211640211640212, 0.5197368421052632, 0.5203679369250985, 0.5203145478374837, 0.5189048239895697, 0.5188556566970091, 0.5194805194805194, 0.5194300518134715, 0.5200517464424321, 0.520671834625323, 0.520618556701031, 0.5198973042362003, 0.5205128205128206, 0.520460358056266, 0.5177664974619289, 0.5183776932826363, 0.5163727959697733, 0.5163316582914573, 0.5169385194479298, 0.5175438596491229, 0.5181476846057572, 0.51875, 0.519350811485643, 0.5199501246882793, 0.5192546583850932, 0.5192069392812887, 0.519159456118665, 0.519753086419753, 0.5197044334975369, 0.5196560196560197, 0.5202453987730061, 0.5182926829268293, 0.5176184690157959, 0.5182038834951457, 0.5175332527206772, 0.517490952955368, 0.5155875299760192, 0.5161676646706587, 0.5136741973840666, 0.5130331753554502, 0.512396694214876, 0.5117647058823529, 0.5099415204678363, 0.5093240093240093, 0.509895227008149, 0.5104651162790698, 0.5104408352668214, 0.5110081112398609, 0.5115740740740741, 0.5121387283236994, 0.5103448275862069, 0.5103211009174312, 0.5102974828375286, 0.5108571428571429, 0.5108323831242874, 0.5113895216400911, 0.5090497737556561, 0.5096045197740113, 0.510158013544018, 0.5107102593010147, 0.5101123595505618, 0.5100896860986547, 0.5100671140939598, 0.5100446428571429, 0.5105908584169454, 0.5105672969966629, 0.5111111111111111, 0.5110864745011087, 0.5104972375690607, 0.5099118942731278, 0.5104510451045104, 0.5098684210526315, 0.5098468271334792, 0.5076086956521739, 0.50814332247557, 0.5086767895878525, 0.5092091007583965, 0.5091891891891892, 0.5086206896551724, 0.5086021505376344, 0.5091299677765844, 0.509656652360515, 0.5074626865671642, 0.5079872204472844, 0.5074309978768577, 0.5079533404029692, 0.507399577167019, 0.5073839662447257, 0.5079030558482613, 0.508421052631579, 0.506806282722513, 0.5073221757322176, 0.5051975051975052, 0.5046632124352332, 0.505175983436853, 0.5051652892561983, 0.5046343975283213, 0.5046248715313464, 0.5046153846153846, 0.5051229508196722, 0.5045965270684372, 0.5051020408163265, 0.5045778229908443, 0.5035460992907801, 0.5040485829959515, 0.5045500505561172, 0.5050505050505051, 0.5055499495459133, 0.5060483870967742, 0.5065458207452165, 0.5055165496489469, 0.5060120240480962, 0.5065065065065065, 0.507]\n"
          ]
        }
      ]
    },
    {
      "cell_type": "code",
      "source": [
        "np.mean(Nf)"
      ],
      "metadata": {
        "id": "FFQ19iJksYhr",
        "outputId": "093c2b28-4e92-40c2-fe66-6b1bfef29eed",
        "colab": {
          "base_uri": "https://localhost:8080/"
        }
      },
      "id": "FFQ19iJksYhr",
      "execution_count": 15,
      "outputs": [
        {
          "output_type": "execute_result",
          "data": {
            "text/plain": [
              "0.5094172662030032"
            ]
          },
          "metadata": {},
          "execution_count": 15
        }
      ]
    },
    {
      "cell_type": "code",
      "source": [
        "plt.plot(Nf)\n",
        "plt.xlabel('iteraciones')\n",
        "plt.ylabel('p')\n",
        "plt.title('Prob. de que x+y <=1 and xy<=2/9')\n",
        "plt.show()"
      ],
      "metadata": {
        "id": "yibSzDSesbBU",
        "outputId": "df00a66c-5916-4f21-c1d2-c04d9aa62049",
        "colab": {
          "base_uri": "https://localhost:8080/",
          "height": 258
        }
      },
      "id": "yibSzDSesbBU",
      "execution_count": 16,
      "outputs": [
        {
          "output_type": "display_data",
          "data": {
            "text/plain": [
              "<Figure size 640x480 with 1 Axes>"
            ],
            "image/png": "[encoded data removed]"
          },
          "metadata": {}
        }
      ]
    },
    {
      "cell_type": "markdown",
      "id": "f596fcd1",
      "metadata": {
        "id": "f596fcd1"
      },
      "source": [
        "**PASO 8**. Replique el modelo."
      ]
    },
    {
      "cell_type": "markdown",
      "id": "6e9bd469",
      "metadata": {
        "id": "6e9bd469"
      },
      "source": [
        "**PASO 9**. Calcule la probabilidad de que aparezcan dos caras lanzando tres veces una moneda al aire y su desviación\n",
        "estándar."
      ]
    },
    {
      "cell_type": "code",
      "execution_count": null,
      "id": "dbeb0461",
      "metadata": {
        "id": "dbeb0461"
      },
      "outputs": [],
      "source": [
        "np.mean(simulacion), np.var(simulacion), np.std(simulacion)"
      ]
    },
    {
      "cell_type": "markdown",
      "id": "db8776d2",
      "metadata": {
        "id": "db8776d2"
      },
      "source": [
        "**PASO 10**. Halle el intervalo de confianza de la probabilidad de queaparezcan dos caras lanzando tres veces una moneda\n",
        "al aire con un nivel de confianza del $95 \\%$."
      ]
    },
    {
      "cell_type": "code",
      "execution_count": null,
      "id": "e5132329",
      "metadata": {
        "id": "e5132329"
      },
      "outputs": [],
      "source": []
    }
  ],
  "metadata": {
    "kernelspec": {
      "display_name": "Python 3 (ipykernel)",
      "language": "python",
      "name": "python3"
    },
    "language_info": {
      "codemirror_mode": {
        "name": "ipython",
        "version": 3
      },
      "file_extension": ".py",
      "mimetype": "text/x-python",
      "name": "python",
      "nbconvert_exporter": "python",
      "pygments_lexer": "ipython3",
      "version": "3.7.3"
    },
    "colab": {
      "provenance": [],
      "include_colab_link": true
    }
  },
  "nbformat": 4,
  "nbformat_minor": 5
}