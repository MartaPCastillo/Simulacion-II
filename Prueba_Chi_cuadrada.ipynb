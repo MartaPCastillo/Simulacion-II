{
  "cells": [
    {
      "cell_type": "markdown",
      "metadata": {
        "id": "view-in-github",
        "colab_type": "text"
      },
      "source": [
        "<a href=\"https://colab.research.google.com/github/MartaPCastillo/Simulacion-II/blob/main/Prueba_Chi_cuadrada.ipynb\" target=\"_parent\"><img src=\"https://colab.research.google.com/assets/colab-badge.svg\" alt=\"Open In Colab\"/></a>"
      ]
    },
    {
      "cell_type": "markdown",
      "id": "a5cc0a87",
      "metadata": {
        "id": "a5cc0a87"
      },
      "source": [
        "# Prueba Chi Cuadrada"
      ]
    },
    {
      "cell_type": "markdown",
      "id": "0e218d98",
      "metadata": {
        "id": "0e218d98"
      },
      "source": [
        "### 1. Identifique las variables\n",
        "\n",
        "Aquellas cuyo comportamiento define el comportamiento o la evoución global del sistema real."
      ]
    },
    {
      "cell_type": "markdown",
      "id": "803801d5",
      "metadata": {
        "id": "803801d5"
      },
      "source": [
        "### 2. Modele las variables aleatorias\n",
        "\n",
        "Cosntruya un modelo fiel de la aleatoriedad de las variables del sistema. Simular el comportamiento del sistema implica generar muestras aleatorias de cada variable que sigan fielmente la distribución de probabilidad correspondiente."
      ]
    },
    {
      "cell_type": "markdown",
      "id": "33709223",
      "metadata": {
        "id": "33709223"
      },
      "source": [
        "### 3. Defina el modelo del sistema y los objetivos de la simulación\n",
        "\n",
        "Fije los objetivos y diseñe un modelo del sistema real que abstraiga sus propiedades más relevantes. Todo error en el modelo (o su implementación computacional) puede dar lugar a conclusiones equivocadas.\n",
        "\n",
        "Antes de experimentar con el modelo, asegurarse de que refleja fielmente el sistema real **validando** el mismo a partir de datos reales, para ello compare los resultados obtenidos de la simulación con los producidos por el sistema."
      ]
    },
    {
      "cell_type": "markdown",
      "id": "7f853065",
      "metadata": {
        "id": "7f853065"
      },
      "source": [
        "### 4. Diseñe el experimento\n",
        "\n",
        "Diseñe un experimento así como las ejecuciones concretas del mismo, los escenarios que desea estudiar para alcanzar los objetivos fijados. El experimento consiste en generar valores de las variables cuyo comportamiento define el comportamiento del sistema y analizar este ante dichos valores."
      ]
    },
    {
      "cell_type": "markdown",
      "id": "15ae61c8",
      "metadata": {
        "id": "15ae61c8"
      },
      "source": [
        "### 5. Repita el experimento $n$ veces\n",
        "\n",
        "Así dispondrá de $n$ observaciones sobre el comportamiento del sistema, lo que permitirá entender su funcionamiento así como evaluar el desempeño del mismo frente a los diversos escenarios establecidos.\n",
        "\n",
        "El **método Monte Carlo** se basa en la **Ley Fuerte de los Grandes Números** y el **Teorema del Límite Central**."
      ]
    },
    {
      "cell_type": "markdown",
      "id": "51ce3fa1",
      "metadata": {
        "id": "51ce3fa1"
      },
      "source": [
        "Elabore un programa que haga la prueba Chi cuadrada.\n",
        "\n",
        "1. Analíticamente.\n",
        "2. Mediante simulación."
      ]
    },
    {
      "cell_type": "markdown",
      "id": "6f1b4105",
      "metadata": {
        "id": "6f1b4105"
      },
      "source": [
        "Analiticamente:"
      ]
    },
    {
      "cell_type": "code",
      "execution_count": null,
      "id": "bb5e678d",
      "metadata": {
        "id": "bb5e678d"
      },
      "outputs": [],
      "source": []
    },
    {
      "cell_type": "markdown",
      "id": "564ca694",
      "metadata": {
        "id": "564ca694"
      },
      "source": [
        "Por simulación: Construimos el modelo en varios pasos."
      ]
    },
    {
      "cell_type": "markdown",
      "id": "fbbc8571",
      "metadata": {
        "id": "fbbc8571"
      },
      "source": [
        "**PASO 1**. Defina las variables que intervienen en el modelo."
      ]
    },
    {
      "cell_type": "code",
      "execution_count": null,
      "id": "37c5f31c",
      "metadata": {
        "id": "37c5f31c",
        "outputId": "ec919a3c-f813-4084-e444-dfe115760bf0",
        "colab": {
          "base_uri": "https://localhost:8080/"
        }
      },
      "outputs": [
        {
          "name": "stdout",
          "output_type": "stream",
          "text": [
            "Número de clases: 5\n",
            "Total de observaciones: 40\n"
          ]
        }
      ],
      "source": [
        "#Solicitamos la cantidad de clases y el total de observaciones en la muestra\n",
        "n = input('Número de clases: ')\n",
        "n = int (n)\n",
        "T = input('Total de observaciones: ')\n",
        "T = int(T)\n",
        "\n",
        "#iniciamos y definimos un contador e inciamos la variable suma\n",
        "contador = 0\n",
        "contador = int(contador)\n",
        "\n",
        "suma=0\n",
        "\n",
        "#definimos una lista vacia\n",
        "lista=[]"
      ]
    },
    {
      "cell_type": "code",
      "source": [
        "#Calculamos la frecuencia esperada en cada clase\n",
        "E = int(T/n)\n",
        "print (\"Frecuencia esperada en la clase i es: \", E)"
      ],
      "metadata": {
        "id": "9_0DtZQvsNa4",
        "outputId": "992da731-2320-46dc-f2b5-0aa96fbb2537",
        "colab": {
          "base_uri": "https://localhost:8080/"
        }
      },
      "id": "9_0DtZQvsNa4",
      "execution_count": null,
      "outputs": [
        {
          "output_type": "stream",
          "name": "stdout",
          "text": [
            "Frecuencia esperada en la clase i es:  8\n"
          ]
        }
      ]
    },
    {
      "cell_type": "markdown",
      "id": "d270399e",
      "metadata": {
        "id": "d270399e"
      },
      "source": [
        "**PASO 2**. Realice el programa que resuelva la prueba Chi cuadrada."
      ]
    },
    {
      "cell_type": "code",
      "execution_count": null,
      "id": "2fd22e33",
      "metadata": {
        "id": "2fd22e33"
      },
      "outputs": [],
      "source": [
        "import numpy as np\n",
        "import random\n",
        "import matplotlib.pyplot as plt"
      ]
    },
    {
      "cell_type": "code",
      "execution_count": null,
      "id": "32719c0f",
      "metadata": {
        "id": "32719c0f",
        "outputId": "9d6c77dc-250a-4e75-a5b5-741b0141f935",
        "colab": {
          "base_uri": "https://localhost:8080/"
        }
      },
      "outputs": [
        {
          "name": "stdout",
          "output_type": "stream",
          "text": [
            "Frecuencia observada en la clase1: 9\n",
            "Frecuencia observada en la clase2: 8\n",
            "Frecuencia observada en la clase3: 7\n",
            "Frecuencia observada en la clase4: 9\n",
            "Frecuencia observada en la clase5: 7\n"
          ]
        }
      ],
      "source": [
        "#disponemos un ciclo de n vueltas\n",
        "for i in range(n):\n",
        "    O = input(\"Frecuencia observada en la clase\" + str(contador + 1) + \": \")\n",
        "    O = int(O)\n",
        "    lista.append(O)\n",
        "    contador += 1\n",
        "    #indicamos como se realizará la suma\n",
        "    suma = suma + O"
      ]
    },
    {
      "cell_type": "code",
      "execution_count": null,
      "id": "423546a4",
      "metadata": {
        "id": "423546a4",
        "outputId": "1a7b9a88-fd1e-47d5-ab1e-e95ca483c052",
        "colab": {
          "base_uri": "https://localhost:8080/"
        }
      },
      "outputs": [
        {
          "output_type": "stream",
          "name": "stdout",
          "text": [
            "La suma de las frecuencias observadas es: 40\n"
          ]
        }
      ],
      "source": [
        "#imprimimos la suma\n",
        "print(\"La suma de las frecuencias observadas es:\", suma)"
      ]
    },
    {
      "cell_type": "code",
      "execution_count": null,
      "id": "0d2847cf",
      "metadata": {
        "id": "0d2847cf"
      },
      "outputs": [],
      "source": [
        "#hacemos un array con la lista para restarle a cada valor la frecuencia esperada\n",
        "a = np.array([lista])\n",
        "a = a - E\n",
        "#hacemos un array con la lista para elevar cada valor al cuadrado\n",
        "b = np.array([a])\n",
        "b = b ** 2\n",
        "#hacemos un array con la lista para dividir cada valor entre la frecuencia esperada\n",
        "c = np.array([b])\n",
        "c = b / E\n",
        "#hacemos la suma de todos los resultados de la división\n",
        "suma1 = np.append(c, np.sum(c))"
      ]
    },
    {
      "cell_type": "code",
      "execution_count": null,
      "id": "548249d8",
      "metadata": {
        "id": "548249d8",
        "outputId": "b3497c65-e7bf-456e-9711-e59efce5105e",
        "colab": {
          "base_uri": "https://localhost:8080/"
        }
      },
      "outputs": [
        {
          "output_type": "stream",
          "name": "stdout",
          "text": [
            "El valor de X^2_c es: 0.5\n"
          ]
        }
      ],
      "source": [
        "#imprimimos el valor de Ji cuadrada\n",
        "print(\"El valor de X^2_c es:\", np.sum(c))"
      ]
    },
    {
      "cell_type": "code",
      "execution_count": null,
      "id": "566325f4",
      "metadata": {
        "id": "566325f4",
        "outputId": "92481cae-88ad-4750-a169-84d4d01fd391",
        "colab": {
          "base_uri": "https://localhost:8080/"
        }
      },
      "outputs": [
        {
          "output_type": "stream",
          "name": "stdout",
          "text": [
            "Conclusión: No se rechaza H_0. Los valores de la muestra provienen de una distribución uniforme\n"
          ]
        }
      ],
      "source": [
        "#Evaluamos, tomando n-1 grados de libertad, y suponiendo que este código siempre será para n = 5, que nuestro valor de Ji cuadrada_c sea menor a 9.48 (valor de Ji cuadrada en la tabla) y obtenemos la conclusión\n",
        "if np.sum(c) < 9.48:\n",
        "  print (\"Conclusión: No se rechaza H_0. Los valores de la muestra provienen de una distribución uniforme\")\n",
        "else:\n",
        "  print (\"Conclusión: Se rechaza H_0. Los valores de la muestra no provienen una distribución uniforme\")"
      ]
    }
  ],
  "metadata": {
    "kernelspec": {
      "display_name": "Python 3 (ipykernel)",
      "language": "python",
      "name": "python3"
    },
    "language_info": {
      "codemirror_mode": {
        "name": "ipython",
        "version": 3
      },
      "file_extension": ".py",
      "mimetype": "text/x-python",
      "name": "python",
      "nbconvert_exporter": "python",
      "pygments_lexer": "ipython3",
      "version": "3.7.3"
    },
    "colab": {
      "provenance": [],
      "include_colab_link": true
    }
  },
  "nbformat": 4,
  "nbformat_minor": 5
}