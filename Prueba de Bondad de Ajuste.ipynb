{
  "nbformat": 4,
  "nbformat_minor": 0,
  "metadata": {
    "colab": {
      "provenance": [],
      "authorship_tag": "ABX9TyP1G4f3VnoBOa9AKTAwJrAc",
      "include_colab_link": true
    },
    "kernelspec": {
      "name": "python3",
      "display_name": "Python 3"
    },
    "language_info": {
      "name": "python"
    }
  },
  "cells": [
    {
      "cell_type": "markdown",
      "metadata": {
        "id": "view-in-github",
        "colab_type": "text"
      },
      "source": [
        "<a href=\"https://colab.research.google.com/github/MartaPCastillo/Simulacion-II/blob/main/Prueba%20de%20Bondad%20de%20Ajuste.ipynb\" target=\"_parent\"><img src=\"https://colab.research.google.com/assets/colab-badge.svg\" alt=\"Open In Colab\"/></a>"
      ]
    },
    {
      "cell_type": "markdown",
      "source": [
        "Prueba de bondad de ajuste"
      ],
      "metadata": {
        "id": "GoENxNqN0UPd"
      }
    },
    {
      "cell_type": "code",
      "source": [
        "import numpy as np\n",
        "\n",
        "#Solicitamos la cantidad de clases y el total de observaciones en la muestra\n",
        "n = input('Número de clases: ')\n",
        "n = int (n)\n",
        "T = input('Total de observaciones: ')\n",
        "T = int(T)\n",
        "\n",
        "#Calculamos la frecuencia esperada en cada clase\n",
        "E = int(T/n)\n",
        "print (\"Frecuencia esperada en la clase i es: \", E)\n",
        "\n",
        "#iniciamos y definimos un contador e inciamos la variable suma\n",
        "contador = 0\n",
        "contador = int(contador)\n",
        "\n",
        "suma=0\n",
        "\n",
        "#definimos una lista vacia\n",
        "lista=[]\n",
        "#disponemos un ciclo de n vueltas\n",
        "for i in range(n):\n",
        "    O = input(\"Frecuencia observada en la clase\" + str(contador + 1) + \": \")\n",
        "    O = int(O)\n",
        "    lista.append(O)\n",
        "    contador += 1\n",
        "    #indicamos como se realizará la suma\n",
        "    suma = suma + O\n",
        "\n",
        "#imprimimos la lista y la suma\n",
        "print(lista)\n",
        "print(\"La suma de las frecuencias observadas es:\", suma)\n",
        "\n",
        "#hacemos un array con la lista para restarle a cada valor la frecuencia esperada\n",
        "a = np.array([lista])\n",
        "a = a - E\n",
        "#imprimimos los valores resultantes de la resta\n",
        "print(a)\n",
        "#hacemos un array con la lista para elevar cada valor al cuadrado\n",
        "b = np.array([a])\n",
        "b = b ** 2\n",
        "#imprimimos los valores al cuadrado\n",
        "print(b)\n",
        "#hacemos un array con la lista para dividir cada valor entre la frecuencia esperada\n",
        "c = np.array([b])\n",
        "c = b / E\n",
        "#imprimimos los resultados de cada división\n",
        "print(c)\n",
        "#hacemos la suma de todos los resultados de la división\n",
        "suma1 = np.append(c, np.sum(c))\n",
        "#imprimimos el valor de Ji cuadrada\n",
        "print(\"El valor de X^2_c es:\", np.sum(c))\n",
        "#Evaluamos, tomando n-1 grados de libertad, y suponiendo que este código siempre será para n = 5, que nuestro valor de Ji cuadrada_c sea menor a 9.48 (valor de Ji cuadrada en la tabla) y obtenemos la conclusión\n",
        "if np.sum(c) < 9.48:\n",
        "  print (\"Conclusión: No se rechaza H_0. Los valores de la muestra provienen de una distribución uniforme\")\n",
        "else:\n",
        "  print (\"Conclusión: Se rechaza H_0. Los valores de la muestra no provienen una distribución uniforme\")"
      ],
      "metadata": {
        "colab": {
          "base_uri": "https://localhost:8080/"
        },
        "id": "K4Ix-gt67Nbd",
        "outputId": "442647ad-1ab2-44ad-823f-3a8584ef38d8"
      },
      "execution_count": 76,
      "outputs": [
        {
          "output_type": "stream",
          "name": "stdout",
          "text": [
            "Número de clases: 5\n",
            "Total de observaciones: 50\n",
            "Frecuencia esperada en la clase i es:  10\n",
            "Frecuencia observada en la clase1: 6\n",
            "Frecuencia observada en la clase2: 12\n",
            "Frecuencia observada en la clase3: 13\n",
            "Frecuencia observada en la clase4: 7\n",
            "Frecuencia observada en la clase5: 12\n",
            "[6, 12, 13, 7, 12]\n",
            "La suma de las frecuencias observadas es: 50\n",
            "[[-4  2  3 -3  2]]\n",
            "[[[16  4  9  9  4]]]\n",
            "[[[1.6 0.4 0.9 0.9 0.4]]]\n",
            "El valor de X^2_c es: 4.2\n",
            "No se rechaza H_0. Los valores de la muestra provienen de una distribución uniforme\n"
          ]
        }
      ]
    },
    {
      "cell_type": "code",
      "source": [
        "\n",
        "\n",
        "#definimos una lista vacia\n",
        "lista=[]\n",
        "#disponemos un ciclo de 5 vueltas\n",
        "for x in range(5):\n",
        "    valor=int(input(\"Ingrese un valor entero:\"))\n",
        "    lista.append(valor)\n",
        "\n",
        "#imprimimos la lista\n",
        "print(lista)\n",
        "\n",
        "E = 10\n",
        "a = np.array([lista])\n",
        "a = a - E\n",
        "print(a)"
      ],
      "metadata": {
        "colab": {
          "base_uri": "https://localhost:8080/"
        },
        "id": "3Ty9IxwrCxFw",
        "outputId": "941239ea-8486-4397-d6ab-9691b7d97ed2"
      },
      "execution_count": 57,
      "outputs": [
        {
          "output_type": "stream",
          "name": "stdout",
          "text": [
            "Ingrese un valor entero:6\n",
            "Ingrese un valor entero:12\n",
            "Ingrese un valor entero:13\n",
            "Ingrese un valor entero:7\n",
            "Ingrese un valor entero:12\n",
            "[6, 12, 13, 7, 12]\n",
            "[[-4  2  3 -3  2]]\n"
          ]
        }
      ]
    },
    {
      "cell_type": "code",
      "source": [
        "import openpyxl\n",
        "\n",
        "wb = openpyxl.load_workbook('/content/Ejercicio 3.xlsx')\n",
        "\n",
        "print(wb.sheetnames)\n"
      ],
      "metadata": {
        "id": "D9aShVOozoL4",
        "outputId": "4f7b074e-d65e-4542-83bf-81fbeebb8ce6",
        "colab": {
          "base_uri": "https://localhost:8080/"
        }
      },
      "execution_count": null,
      "outputs": [
        {
          "output_type": "stream",
          "name": "stdout",
          "text": [
            "['Datos Ejercicio 3']\n"
          ]
        }
      ]
    },
    {
      "cell_type": "code",
      "source": [
        "import pandas as pd\n",
        "import numpy as np\n",
        "\n",
        "datos = pd.read_excel (io = '/content/Ejercicio 3.xlsx',\n",
        "                         header = 0, names = None, index_col = None,\n",
        "                         engine = 'openpyxl')\n",
        "\n",
        "\n",
        "print(datos.sort_values(by=['Unnamed: 0','Unnamed: 1'], ascending = [True, True]))\n",
        "df = pd.DataFrame(np.sort(datos.values, axis = 0), index = datos.index, columns = datos.columns)\n",
        "print (df)"
      ],
      "metadata": {
        "id": "eVZ2sgWxz10h",
        "outputId": "c299c91b-b7b3-4a38-ce6d-a764d51f1792",
        "colab": {
          "base_uri": "https://localhost:8080/"
        }
      },
      "execution_count": null,
      "outputs": [
        {
          "output_type": "stream",
          "name": "stdout",
          "text": [
            "   Unnamed: 0  Unnamed: 1  Unnamed: 2  Unnamed: 3  Unnamed: 4  Unnamed: 5  \\\n",
            "2           7          50           5          91          77          18   \n",
            "0          38          33          25           5          69          35   \n",
            "1          50          46          95          42          49          11   \n",
            "3          91          36          48          88          52          76   \n",
            "\n",
            "   Unnamed: 6  Unnamed: 7  Unnamed: 8  Unnamed: 9  \n",
            "2          21           4          17          62  \n",
            "0          98          52          12          79  \n",
            "1          78          34           2          43  \n",
            "3          99          73          82          90  \n",
            "   Unnamed: 0  Unnamed: 1  Unnamed: 2  Unnamed: 3  Unnamed: 4  Unnamed: 5  \\\n",
            "0           7          33           5           5          49          11   \n",
            "1          38          36          25          42          52          18   \n",
            "2          50          46          48          88          69          35   \n",
            "3          91          50          95          91          77          76   \n",
            "\n",
            "   Unnamed: 6  Unnamed: 7  Unnamed: 8  Unnamed: 9  \n",
            "0          21           4           2          43  \n",
            "1          78          34          12          62  \n",
            "2          98          52          17          79  \n",
            "3          99          73          82          90  \n"
          ]
        }
      ]
    }
  ]
}